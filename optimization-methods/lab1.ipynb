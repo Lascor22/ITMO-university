{
  "cells": [
    {
      "attachments": {},
      "cell_type": "markdown",
      "metadata": {
        "id": "Xb7ZNKhuVgj5"
      },
      "source": [
        "**Лабораторная работа 1**"
      ]
    },
    {
      "cell_type": "markdown",
      "metadata": {
        "id": "vlaQPzen_DiC"
      },
      "source": [
        "**Градиентный спуск c постоянным шагом**"
      ]
    },
    {
      "cell_type": "code",
      "execution_count": null,
      "metadata": {
        "id": "6WuePPjf_Vzf"
      },
      "outputs": [],
      "source": [
        "from scipy.optimize.linesearch import scalar_search_wolfe2\n",
        "from scipy.sparse import diags\n",
        "import numpy as np\n",
        "import scipy as scipy\n",
        "import matplotlib.pyplot as plt\n",
        "from matplotlib.colors import ListedColormap\n",
        "from abc import ABCMeta, abstractmethod\n",
        "import dataclasses\n",
        "import itertools\n",
        "from typing import Callable\n",
        "import pandas as pd\n",
        "import math\n",
        "pd.set_option(\"precision\", 10)"
      ]
    },
    {
      "cell_type": "code",
      "execution_count": null,
      "metadata": {
        "id": "-Oe_sAcj9uw-"
      },
      "outputs": [],
      "source": [
        "class QuadraticOracle:\n",
        "    \"\"\"\n",
        "    Oracle for quadratic function:\n",
        "       func(x) = 1/2 · x^T · A · x - b^T · x.\n",
        "       ~= 1/2 * x^2 * a - b * x ~= \n",
        "    \"\"\"\n",
        "\n",
        "    def __init__(self, A, b):\n",
        "        if not np.allclose(A, A.T, rtol=1e-05, atol=1e-08):\n",
        "            raise ValueError('A should be a symmetric matrix.')\n",
        "        self.A = A\n",
        "        self.b = b\n",
        "\n",
        "    def func(self, x):\n",
        "        return 0.5 * np.dot(self.A.dot(x), x) - self.b.dot(x)\n",
        "\n",
        "    def grad(self, x):\n",
        "        return self.A.dot(x) - self.b\n",
        "\n",
        "    def funcDirectional(self, x, d, alpha):\n",
        "        return np.squeeze(self.func(x + alpha * d))\n",
        "\n",
        "    def gradDirectional(self, x, d, alpha):\n",
        "        return np.squeeze(self.grad(x + alpha * d).dot(d))"
      ]
    },
    {
      "cell_type": "code",
      "execution_count": null,
      "metadata": {
        "id": "CnMgFN8m_kAD"
      },
      "outputs": [],
      "source": [
        "def gradientDescentConstantStep(oracle: QuadraticOracle, x_0, step, tolerance=1e-5, max_iter=1000):\n",
        "    x_k = x_0\n",
        "    func_x_k = oracle.func(x_k)\n",
        "    grad_x_k = oracle.grad(x_k)\n",
        "    a_k = None\n",
        "    trace = []\n",
        "    funcRes = []\n",
        "    grad_x_0_norm = np.linalg.norm(grad_x_k)\n",
        "\n",
        "    funcRes.append(func_x_k)\n",
        "    if x_0.size <= 2:\n",
        "        trace.append(np.copy(x_k))\n",
        "\n",
        "    for _ in range(max_iter):\n",
        "        d_k = -grad_x_k\n",
        "        a_k = step\n",
        "        x_k += a_k * d_k\n",
        "        func_x_k = oracle.func(x_k)\n",
        "        grad_x_k = oracle.grad(x_k)\n",
        "        grad_x_k_norm = np.linalg.norm(grad_x_k)\n",
        "\n",
        "        funcRes.append(func_x_k)\n",
        "        if x_0.size <= 2:\n",
        "            trace.append(np.copy(x_k))\n",
        "\n",
        "        if grad_x_k_norm ** 2 <= tolerance * grad_x_0_norm ** 2:\n",
        "            return x_k, trace, funcRes\n",
        "\n",
        "    return x_k, trace, funcRes"
      ]
    },
    {
      "cell_type": "code",
      "execution_count": null,
      "metadata": {
        "colab": {
          "base_uri": "https://localhost:8080/"
        },
        "id": "-OWHW-NR_rBz",
        "outputId": "aa41544b-278d-4a49-e6c4-055855750459"
      },
      "outputs": [
        {
          "name": "stdout",
          "output_type": "stream",
          "text": [
            "step 0.01\n",
            "14.701350712217256\n",
            "14.408790862217256\n",
            "14.122052953232256\n",
            "13.841021128636058\n",
            "13.565581837349324\n",
            "13.295623787959196\n",
            "13.031037903751931\n",
            "12.771717278640391\n",
            "12.51755713396857\n",
            "12.26845477617572\n",
            "12.024309555302946\n",
            "11.78502282432554\n",
            "11.550497899294585\n",
            "11.320640020271746\n",
            "11.095356313041462\n",
            "10.87455575158506\n",
            "10.65814912130164\n",
            "10.446048982960862\n",
            "10.238169637373066\n",
            "10.034427090762463\n",
            "9.834739020829414\n",
            "9.639024743488033\n",
            "9.447205180265744\n",
            "9.25920282635158\n",
            "9.074941719280305\n",
            "8.894347408239751\n",
            "8.717346923988902\n",
            "8.54386874937465\n",
            "8.373842790435216\n",
            "8.207200348078679\n",
            "...\n",
            "____________________\n",
            "\n",
            "step 0.1\n",
            "12.149861079193037\n",
            "9.841361079193037\n",
            "7.971476079193037\n",
            "6.456869229193037\n",
            "5.2300376806930355\n",
            "4.236304126408035\n",
            "3.4313799474371844\n",
            "2.779391362470797\n",
            "2.251280608648022\n",
            "1.823510898051575\n",
            "1.4770174324684522\n",
            "1.196357725346127\n",
            "0.9690233625770368\n",
            "0.7848825287340784\n",
            "0.635728453321283\n",
            "0.5149136522369151\n",
            "0.41705366335857796\n",
            "0.3377870723671226\n",
            "0.273581133664047\n",
            "0.22157432331455418\n",
            "0.17944880693146636\n",
            "0.1453271386611643\n",
            "0.11768858736222221\n",
            "0.09530136081007612\n",
            "0.07716770730283784\n",
            "0.06247944796197835\n",
            "0.050581957895877494\n",
            "0.040944990942341164\n",
            "0.03313904770997311\n",
            "0.026816233691755897\n",
            "...\n",
            "____________________\n",
            "\n",
            "step 0.3\n",
            "7.3499188245659415\n",
            "3.6014188245659398\n",
            "1.7646538245659418\n",
            "0.864638974565942\n",
            "0.4236316980659396\n",
            "0.20753813258093778\n",
            "0.10165228549329441\n",
            "0.04976822042034357\n",
            "0.024345028534593638\n",
            "0.011887664510584983\n",
            "0.0057835561388195345\n",
            "0.0027925430366515513\n",
            "0.001326946616588387\n",
            "0.0006088043707634938\n",
            "0.00025691467029886894\n",
            "8.448871707855687e-05\n",
            "0.0\n",
            "____________________\n",
            "\n",
            "step 0.3333333333333333\n",
            "6.666588440240906\n",
            "2.9628847365372017\n",
            "1.3167942015577765\n",
            "0.5851984082335875\n",
            "0.2600447223117257\n",
            "0.11553197301312679\n",
            "0.05130408443596579\n",
            "0.022758356179451766\n",
            "0.0100713658432241\n",
            "0.0044327034715649916\n",
            "0.001926631306382376\n",
            "0.0008128214551934576\n",
            "0.0003177948546628784\n",
            "9.778303220642215e-05\n",
            "0.0\n",
            "____________________\n",
            "\n",
            "step 0.5714285714285714\n",
            "2.7549962577224303\n",
            "0.5059333672601198\n",
            "0.09284018329765864\n",
            "0.016965925018840977\n",
            "0.0030298367635452905\n",
            "0.00047014708399828464\n",
            "0.0\n",
            "____________________\n",
            "\n",
            "step 1.1\n",
            "0.14998500000000448\n",
            "0.0014849999999988484\n",
            "0.0\n",
            "____________________\n",
            "\n",
            "step 1.4142135623730951\n",
            "2.5735274792706377\n",
            "0.44149312330637436\n",
            "0.07569385871368439\n",
            "0.01293262712178489\n",
            "0.0021645021630920525\n",
            "0.0003169840028434123\n",
            "0.0\n",
            "____________________\n",
            "\n",
            "step 1.5\n",
            "3.7499427795410156\n",
            "0.9374427795410156\n",
            "0.23431777954101562\n",
            "0.058536529541015625\n",
            "0.014591217041015625\n",
            "0.003604888916015625\n",
            "0.000858306884765625\n",
            "0.000171661376953125\n",
            "0.0\n",
            "____________________\n",
            "\n",
            "step 1.7320508075688772\n",
            "8.038368951654695\n",
            "4.30769936219046\n",
            "2.308439554741886\n",
            "1.2370394530101851\n",
            "0.6628778689509272\n",
            "0.35518560340362093\n",
            "0.19029381526221023\n",
            "0.10192857232018504\n",
            "0.05457378134959434\n",
            "0.02919642535296596\n",
            "0.015596741262296376\n",
            "0.008308692523469219\n",
            "0.0044030389755356225\n",
            "0.0023100055473683767\n",
            "0.0011883523137488083\n",
            "0.0005872601574754555\n",
            "0.000265135841777564\n",
            "9.250994126830392e-05\n",
            "0.0\n",
            "____________________\n",
            "\n"
          ]
        }
      ],
      "source": [
        "oracle = QuadraticOracle(np.eye(5), np.arange(5))\n",
        "\n",
        "for step in [0.01, 0.1, 0.3, 1/3, 4/7, 1.1, 2**(1/2), 1.5, 3**(1/2)]:\n",
        "    print ('step ' + str(step))\n",
        "    x_k, trace, funcRes = gradientDescentConstantStep(oracle, np.zeros(5), step)\n",
        "    result = funcRes[-1]\n",
        "    it = 0\n",
        "    for i in range(1, len(funcRes)):\n",
        "        if it == 30:\n",
        "          print('...')\n",
        "          break\n",
        "        it += 1\n",
        "        ratio = (funcRes[i] - result)\n",
        "        print(ratio)\n",
        "    print('____________________\\n')"
      ]
    },
    {
      "cell_type": "markdown",
      "metadata": {
        "id": "F-W4Q1z0EzZz"
      },
      "source": [
        "**Градиентный спуск с функцией шага**"
      ]
    },
    {
      "cell_type": "code",
      "execution_count": null,
      "metadata": {
        "id": "IasgKM9XGCaV"
      },
      "outputs": [],
      "source": [
        "def gradientDescentStepFunction(oracle: QuadraticOracle, x_0, stepFunction, initRate, tolerance=1e-5, max_iter=1000):\n",
        "    x_k = x_0\n",
        "    func_x_k = oracle.func(x_k)\n",
        "    grad_x_k = oracle.grad(x_k)\n",
        "    a_k = None\n",
        "    trace = []\n",
        "    funcRes = []\n",
        "    grad_x_0_norm = np.linalg.norm(grad_x_k)\n",
        "\n",
        "    funcRes.append(func_x_k)\n",
        "    if x_0.size <= 2:\n",
        "        trace.append(np.copy(x_k))\n",
        "\n",
        "    for it in range(max_iter):\n",
        "        d_k = -grad_x_k\n",
        "        a_k = stepFunction(initRate, it)\n",
        "        x_k += a_k * d_k\n",
        "        func_x_k = oracle.func(x_k)\n",
        "        grad_x_k = oracle.grad(x_k)\n",
        "        grad_x_k_norm = np.linalg.norm(grad_x_k)\n",
        "\n",
        "        funcRes.append(func_x_k)\n",
        "        if x_0.size <= 2:\n",
        "            trace.append(np.copy(x_k))\n",
        "\n",
        "        if grad_x_k_norm ** 2 <= tolerance * grad_x_0_norm ** 2:\n",
        "            return x_k, trace, funcRes\n",
        "\n",
        "    return x_k, trace, funcRes"
      ]
    },
    {
      "cell_type": "code",
      "execution_count": null,
      "metadata": {
        "id": "Zy8egEBCN29-"
      },
      "outputs": [],
      "source": [
        "def expStep(initRate, it):\n",
        "   k = 0.01\n",
        "   lrate = initRate * np.exp(-k*it)\n",
        "   return lrate"
      ]
    },
    {
      "cell_type": "code",
      "execution_count": null,
      "metadata": {
        "colab": {
          "base_uri": "https://localhost:8080/"
        },
        "id": "YRa5AUYZOD0T",
        "outputId": "4f0308a8-c6e9-4c0a-926f-daf70d4e3e31"
      },
      "outputs": [
        {
          "name": "stdout",
          "output_type": "stream",
          "text": [
            "init rate = 0.1\n",
            "12.14986048703504\n",
            "9.863133529831332\n",
            "8.024305385379035\n",
            "6.542419419287841\n",
            "5.345610544835406\n",
            "4.376973941431842\n",
            "3.591353413032115\n",
            "2.9528391908709146\n",
            "2.4328142330766447\n",
            "2.0084255108087667\n",
            "1.6613852923402224\n",
            "1.3770292137887417\n",
            "1.143574588974161\n",
            "0.9515351892557931\n",
            "0.7932585439674611\n",
            "0.6625593741193736\n",
            "0.5544286075898892\n",
            "0.4648019365478788\n",
            "0.39037537440553116\n",
            "0.32845798440710716\n",
            "0.2768540640061694\n",
            "0.23376871554920342\n",
            "0.19773201965660192\n",
            "0.1675380339518231\n",
            "0.14219562874792402\n",
            "0.12088879105704464\n",
            "0.10294451604465849\n",
            "0.0878067896342749\n",
            "0.07501546976091333\n",
            "0.06418911418243489\n",
            "...\n",
            "____________________\n",
            "\n",
            "init rate = 0.5\n",
            "3.7498868711243176\n",
            "0.9561362507900206\n",
            "0.24851045378597902\n",
            "0.06577102654799383\n",
            "0.01767491101931995\n",
            "0.004778225089630439\n",
            "0.0012562818526511421\n",
            "0.00027707887621808425\n",
            "0.0\n",
            "____________________\n",
            "\n",
            "init rate = 0.7\n",
            "1.3498618231896522\n",
            "0.1270690597961437\n",
            "0.012392840479247269\n",
            "0.0011505239659435063\n",
            "0.0\n",
            "____________________\n",
            "\n",
            "init rate = 0.9\n",
            "0.14997528084497347\n",
            "0.001755964539469801\n",
            "0.0\n",
            "____________________\n",
            "\n",
            "init rate = 1.1\n",
            "0.1499927217744741\n",
            "0.001182335842422333\n",
            "0.0\n",
            "____________________\n",
            "\n",
            "init rate = 2\n",
            "14.999916393907904\n",
            "14.40884676736314\n",
            "13.290181553229937\n",
            "11.765469174991875\n",
            "9.992490129546406\n",
            "8.138187948173297\n",
            "6.352843334362001\n",
            "4.751001482271215\n",
            "3.4022148452984613\n",
            "2.3317024071040553\n",
            "1.5285731391361335\n",
            "0.957984659740367\n",
            "0.57363612362259\n",
            "0.3279834600700138\n",
            "0.17894325599500327\n",
            "0.09308930892652967\n",
            "0.046132115683027664\n",
            "0.021749718760259995\n",
            "0.009733190774934286\n",
            "0.004114145591662677\n",
            "0.0016221804101608228\n",
            "0.0005745721336545273\n",
            "0.00015733353514768567\n",
            "0.0\n",
            "____________________\n",
            "\n",
            "init rate = 3\n",
            "59.99994438340287\n",
            "232.8892878193502\n",
            "877.0409300195585\n",
            "3204.012739469161\n",
            "11352.812067485665\n",
            "39010.08129378263\n",
            "129969.76037220827\n",
            "419784.28621349926\n",
            "1314175.0167944622\n",
            "3987003.0293746823\n",
            "11720003.803554093\n",
            "33374637.246378593\n",
            "92051525.79438576\n",
            "245859654.99317187\n",
            "635769529.3833009\n",
            "1591404962.426622\n",
            "3855144465.199048\n",
            "9036242758.711746\n",
            "20489370206.571117\n",
            "44933145410.19976\n",
            "95280550430.08855\n",
            "195317115526.9627\n",
            "386965199424.1907\n",
            "740787291764.0107\n",
            "1369925611851.9387\n",
            "2446647742316.863\n",
            "4218939220690.41\n",
            "7022244206683.795\n",
            "11278982061782.697\n",
            "17476826620771.152\n",
            "...\n",
            "____________________\n",
            "\n",
            "init rate = 5\n",
            "239.99999998151023\n",
            "3745.0724388240396\n",
            "56991.573281421035\n",
            "845735.4566133515\n",
            "12237804.124269594\n",
            "172658787.53730342\n",
            "2374984743.535401\n",
            "31848587414.577736\n",
            "416338469714.3704\n",
            "5305169399137.923\n",
            "65889645019605.875\n",
            "797569681290980.5\n",
            "9408524491997790.0\n",
            "1.0815414405138797e+17\n",
            "1.2114357769430464e+18\n",
            "1.3220853834155432e+19\n",
            "1.4056792606219824e+20\n",
            "1.4559477430402503e+21\n",
            "1.4689356759603593e+22\n",
            "1.4435148466967394e+23\n",
            "1.381543833381623e+24\n",
            "1.2876441722780022e+25\n",
            "1.1686301247440887e+26\n",
            "1.0326898229617225e+27\n",
            "8.884546740544395e+27\n",
            "7.441037704759262e+28\n",
            "6.066304382448053e+29\n",
            "4.813558759378866e+30\n",
            "3.717217408872709e+31\n",
            "2.7934232695497927e+32\n",
            "...\n",
            "____________________\n",
            "\n"
          ]
        }
      ],
      "source": [
        "oracle = QuadraticOracle(np.eye(5), np.arange(5))\n",
        "\n",
        "for initRate in [0.1, 0.5, 0.7, 0.9, 1.1, 2, 3, 5]:\n",
        "    print ('init rate = ' + str(initRate))\n",
        "    x_k, trace, funcRes = gradientDescentStepFunction(oracle, np.zeros(5), expStep, initRate)\n",
        "    result = funcRes[-1]\n",
        "    it = 0\n",
        "    for i in range(1, len(funcRes)):\n",
        "        if it == 30:\n",
        "          print('...')\n",
        "          break\n",
        "        it += 1\n",
        "        ratio = (funcRes[i] - result)\n",
        "        print(ratio)\n",
        "    print('____________________\\n')"
      ]
    },
    {
      "cell_type": "markdown",
      "metadata": {
        "id": "bXvq6vM0Q8xS"
      },
      "source": [
        "3 задание"
      ]
    },
    {
      "cell_type": "markdown",
      "metadata": {
        "id": "z67Lc0Xja-6V"
      },
      "source": [
        "**Метод дихотомии**\n",
        "\n",
        "зададим интервал, убедимся, что на концах функция имеет разный знак,\n",
        "выберем точку x внутри интервала, сравним знак x со знаком в одном из концов, если совпадает, то переместим этот конец интервала в точку x, иначе переместим в другой конец интервала, пока не будет достигнута нужная точность\n",
        "\n"
      ]
    },
    {
      "cell_type": "code",
      "execution_count": null,
      "metadata": {
        "id": "uYJkpumIaxJY"
      },
      "outputs": [],
      "source": [
        "def dichotomy(oracle, l, r, eps):\n",
        "    delta = eps / 3\n",
        "    m = (l + r) / 2\n",
        "    count = 0\n",
        "\n",
        "    while abs(l - r) >= eps:\n",
        "        m = (l + r) / 2\n",
        "        x1 = m - delta\n",
        "        x2 = m + delta\n",
        "\n",
        "        y1 = oracle.func(x1)\n",
        "        y2 = oracle.func(x2)\n",
        "\n",
        "        count = count + 2\n",
        "\n",
        "        if y1 < y2:\n",
        "            r = x2\n",
        "        else:\n",
        "            l = x1\n",
        "\n",
        "    return m, count"
      ]
    },
    {
      "cell_type": "code",
      "execution_count": null,
      "metadata": {
        "id": "ErsCFWOra6o0"
      },
      "outputs": [],
      "source": [
        "class OneDimensionalOracle:\n",
        "    def __init__(self, func, grad, min_value):\n",
        "        self.func = func\n",
        "        self.grad = grad\n",
        "        self.min_value = min_value"
      ]
    },
    {
      "cell_type": "code",
      "execution_count": null,
      "metadata": {
        "id": "LO7XGSLDauYR"
      },
      "outputs": [],
      "source": [
        "def step(oracle, x0, d_k, method, c, dichotomy_first_step = 0.01, dichotomy_eps=0.01):\n",
        "    if method == 'Constant':\n",
        "        return x0 + c*d_k, c, 1, 1\n",
        "    elif method == 'Division':\n",
        "        return x0 + c * d_k, c / 2, 1, 1\n",
        "    elif method == 'Dichotomy':\n",
        "        step = dichotomy_first_step\n",
        "        x2 = x0 + dichotomy_first_step*d_k\n",
        "        new_grad_cnt = 1\n",
        "        while oracle.grad(x2) <= 0:\n",
        "           step *= 2\n",
        "           if step >= 10:\n",
        "              return x2, c\n",
        "           new_grad_cnt = new_grad_cnt + 1\n",
        "            \n",
        "           x2 = x0 + step*d_k\n",
        "\n",
        "        x, cnt = dichotomy(oracle, x0, x2, dichotomy_eps)\n",
        "\n",
        "        return x, c, cnt, new_grad_cnt"
      ]
    },
    {
      "cell_type": "code",
      "execution_count": null,
      "metadata": {
        "id": "x6zhmIieasJp"
      },
      "outputs": [],
      "source": [
        "def gradientDescent(oracle, x_0, method, c0, tolerance=1e-5, max_iter=10000):\n",
        "    cnts_func = 0\n",
        "    cnts_grad = 0\n",
        "    x_k = x_0\n",
        "    func_x_k = oracle.func(x_k)\n",
        "    grad_x_k = oracle.grad(x_k)\n",
        "    a_k = None\n",
        "    trace = []\n",
        "    funcRes = []\n",
        "    grad_x_0_norm = np.linalg.norm(grad_x_k)\n",
        "\n",
        "    funcRes.append(func_x_k)\n",
        "    trace.append(x_k)\n",
        "\n",
        "    c = c0\n",
        "\n",
        "    for _ in range(max_iter):\n",
        "        d_k = -grad_x_k\n",
        "        x_k, c, new_cnt, new_grad_cnt = step(oracle, x_k, d_k, method, c)\n",
        "        cnts_func = cnts_func + new_cnt\n",
        "        cnts_grad = cnts_grad + new_grad_cnt\n",
        "        func_x_k = oracle.func(x_k)\n",
        "        grad_x_k = oracle.grad(x_k)\n",
        "        grad_x_k_norm = np.linalg.norm(grad_x_k)\n",
        "\n",
        "        funcRes.append(func_x_k)\n",
        "        trace.append(x_k)\n",
        "\n",
        "        if grad_x_k_norm ** 2 <= tolerance * grad_x_0_norm ** 2:\n",
        "            return x_k, trace, funcRes, cnts_func, cnts_grad\n",
        "\n",
        "    return x_k, trace, funcRes, cnts_func, cnts_grad"
      ]
    },
    {
      "cell_type": "code",
      "execution_count": null,
      "metadata": {
        "colab": {
          "base_uri": "https://localhost:8080/"
        },
        "id": "tfd9nXGYalL5",
        "outputId": "5c37d064-2467-4c31-c105-09e3cc44ce11"
      },
      "outputs": [
        {
          "name": "stdout",
          "output_type": "stream",
          "text": [
            "Constant\n",
            "Func min value:  5\n",
            "Find min value:  5.000997409464502\n",
            "Num steps:  2877\n",
            "Func calculation count:  2876\n",
            "Grad calculation count:  2876\n",
            "Division\n",
            "Func min value:  5\n",
            "Find min value:  104.20266179591735\n",
            "Num steps:  10001\n",
            "Func calculation count:  10000\n",
            "Grad calculation count:  10000\n",
            "Dichotomy\n",
            "Func min value:  5\n",
            "Find min value:  5.000981941857355\n",
            "Num steps:  1483\n",
            "Func calculation count:  7500\n",
            "Grad calculation count:  1482\n"
          ]
        }
      ],
      "source": [
        "oracle = OneDimensionalOracle(\n",
        "            func = lambda x: x * x + 5,\n",
        "            grad = lambda x: 2*x,\n",
        "            min_value = 5\n",
        "        )\n",
        "methods = ['Constant', 'Division', 'Dichotomy']\n",
        "\n",
        "for method in methods:\n",
        "    x_k, trace, funcRes, cnts_func, cnt_grad = gradientDescent(oracle, 10, method, 0.001)\n",
        "    result = funcRes[-1]\n",
        "    print(method)\n",
        "    print(\"Func min value: \", oracle.min_value)\n",
        "    print(\"Find min value: \", result)\n",
        "    print(\"Num steps: \", len(trace))\n",
        "    print(\"Func calculation count: \", cnts_func)\n",
        "    print(\"Grad calculation count: \", cnt_grad)"
      ]
    },
    {
      "cell_type": "code",
      "execution_count": null,
      "metadata": {
        "colab": {
          "base_uri": "https://localhost:8080/"
        },
        "id": "d3tU4UJIap_f",
        "outputId": "fdffa3b8-0991-4fd5-ca60-40caf05b67fd"
      },
      "outputs": [
        {
          "name": "stdout",
          "output_type": "stream",
          "text": [
            "Constant\n",
            "Func min value:  -1\n",
            "Find min value:  -0.9999965052190015\n",
            "Num steps:  600\n",
            "Func calculation count:  599\n",
            "Grad calculation count:  599\n",
            "Division\n",
            "Func min value:  -1\n",
            "Find min value:  -0.5579737783572841\n",
            "Num steps:  10001\n",
            "Func calculation count:  10000\n",
            "Grad calculation count:  10000\n",
            "Dichotomy\n",
            "Func min value:  -1\n",
            "Find min value:  -0.9999979427785897\n",
            "Num steps:  2\n",
            "Func calculation count:  18\n",
            "Grad calculation count:  8\n"
          ]
        }
      ],
      "source": [
        "oracle = OneDimensionalOracle(\n",
        "            func = lambda x: math.sin(x),\n",
        "            grad = lambda x: math.cos(x),\n",
        "            min_value = -1\n",
        "        )\n",
        "\n",
        "methods = ['Constant', 'Division', 'Dichotomy']\n",
        "\n",
        "for method in methods:\n",
        "    x_k, trace, funcRes, cnts_func, cnt_grad = gradientDescent(oracle, 10, method, 0.01)\n",
        "    result = funcRes[-1]\n",
        "    print(method)\n",
        "    print(\"Func min value: \", oracle.min_value)\n",
        "    print(\"Find min value: \", result)\n",
        "    print(\"Num steps: \", len(trace))\n",
        "    print(\"Func calculation count: \", cnts_func)\n",
        "    print(\"Grad calculation count: \", cnt_grad)"
      ]
    },
    {
      "cell_type": "code",
      "execution_count": null,
      "metadata": {
        "id": "N4YGOq7oj6df"
      },
      "outputs": [],
      "source": [
        "COLOR_RED = np.linspace(240, 166, 256) / 255.\n",
        "COLOR_GREEN = np.linspace(244, 188, 256) / 255.\n",
        "COLOR_BLUE = np.linspace(246, 203, 256) / 255."
      ]
    },
    {
      "cell_type": "code",
      "execution_count": null,
      "metadata": {
        "id": "X2GZ7CDOj8Ut"
      },
      "outputs": [],
      "source": [
        "def plotLevels(func):\n",
        "    xrange = [-6, 6]\n",
        "    yrange = [-5, 5]\n",
        "    levels = [0, 0.25, 1, 4, 9, 16, 25]\n",
        "\n",
        "    x = np.linspace(xrange[0], xrange[1], 100)\n",
        "    y = np.linspace(yrange[0], yrange[1], 100)\n",
        "    X, Y = np.meshgrid(x, y)\n",
        "    Z = np.zeros(X.shape)\n",
        "    for i in range(Z.shape[0]):\n",
        "        for j in range(Z.shape[1]):\n",
        "            Z[i, j] = func(np.array([X[i, j], Y[i, j]]))\n",
        "\n",
        "    colors = np.vstack([COLOR_RED, COLOR_GREEN, COLOR_BLUE]).T\n",
        "    my_cmap = ListedColormap(colors)\n",
        "\n",
        "    _ = plt.contourf(X, Y, Z, levels=levels, cmap=my_cmap)\n",
        "    CS = plt.contour(X, Y, Z, levels=levels, colors='#ABBECC')\n",
        "    plt.clabel(CS, inline=1, fontsize=8, colors='#AAAEBB')\n",
        "    plt.grid()"
      ]
    },
    {
      "cell_type": "code",
      "execution_count": null,
      "metadata": {
        "id": "2-Vf8IV1j-jm"
      },
      "outputs": [],
      "source": [
        "def plotTrace(trace):\n",
        "    x_values, y_values = zip(*trace)\n",
        "    plt.plot(x_values, y_values, '-o', linewidth=1.0, ms=5.0,\n",
        "             alpha=1.0, c='C2', label=\"Trajectory\")"
      ]
    },
    {
      "cell_type": "code",
      "execution_count": null,
      "metadata": {
        "id": "DNsp2h86tZxC"
      },
      "outputs": [],
      "source": [
        "class StepCalculator:\n",
        "    __metaclass__ = ABCMeta\n",
        "\n",
        "    @abstractmethod\n",
        "    def get_step_size(self, x_k: float, d_k: float): raise NotImplementedError\n",
        "\n",
        "\n",
        "class Constant(StepCalculator):\n",
        "    value: float\n",
        "\n",
        "    def __init__(self, value: float):\n",
        "        self.value = value\n",
        "\n",
        "    def get_step_size(self, x_k: float, d_k: float):\n",
        "        return self.value\n",
        "\n",
        "\n",
        "class Division(StepCalculator):\n",
        "    alpha_0: float\n",
        "\n",
        "    def __init__(self, alpha_0: float):\n",
        "        self.alpha_0 = alpha_0\n",
        "\n",
        "    def get_step_size(self, x_k: float, d_k: float):\n",
        "        return self.alpha_0 / 2\n"
      ]
    },
    {
      "cell_type": "code",
      "execution_count": null,
      "metadata": {
        "id": "zmlERbW4nEQs"
      },
      "outputs": [],
      "source": [
        "def lineSearch(oracle, x_k, d_k, method, c, c1, c2, alpha_0, previous_alpha=None):\n",
        "    if method == 'Constant':\n",
        "        return c\n",
        "    elif method == 'Division':\n",
        "        return c / 2\n",
        "    elif method == 'Armijo':\n",
        "        alpha = alpha_0 if previous_alpha is None else previous_alpha\n",
        "        while (oracle.funcDirectional(x_k, d_k, alpha) > oracle.func(\n",
        "                x_k) + c1 * alpha * oracle.gradDirectional(x_k, d_k, 0)):\n",
        "            alpha /= 2\n",
        "        return alpha"
      ]
    },
    {
      "cell_type": "code",
      "execution_count": null,
      "metadata": {
        "id": "z_a_yCTTk4q9"
      },
      "outputs": [],
      "source": [
        "def gradientDescent(oracle: QuadraticOracle, x_0, method, c0, c1, alpha, tolerance=1e-5, max_iter=1000):\n",
        "    x_k = x_0\n",
        "    func_x_k = oracle.func(x_k)\n",
        "    grad_x_k = oracle.grad(x_k)\n",
        "    a_k = None\n",
        "    trace = []\n",
        "    funcRes = []\n",
        "    grad_x_0_norm = np.linalg.norm(grad_x_k)\n",
        "\n",
        "    funcRes.append(func_x_k)\n",
        "    if x_0.size <= 2:\n",
        "        trace.append(np.copy(x_k))\n",
        "\n",
        "    for _ in range(max_iter):\n",
        "        d_k = -grad_x_k\n",
        "        a_k = lineSearch(oracle, x_k, d_k, method, 0.5, c0, c1, alpha, 2 * a_k if a_k else None)\n",
        "        if method == 'Division':\n",
        "          a_k /= 2\n",
        "        x_k += a_k * d_k\n",
        "        func_x_k = oracle.func(x_k)\n",
        "        grad_x_k = oracle.grad(x_k)\n",
        "        grad_x_k_norm = np.linalg.norm(grad_x_k)\n",
        "\n",
        "        funcRes.append(func_x_k)\n",
        "        if x_0.size <= 2:\n",
        "            trace.append(np.copy(x_k))\n",
        "\n",
        "        if grad_x_k_norm ** 2 <= tolerance * grad_x_0_norm ** 2:\n",
        "            return x_k, trace, funcRes\n",
        "\n",
        "    return x_k, trace, funcRes"
      ]
    },
    {
      "cell_type": "markdown",
      "metadata": {
        "id": "cfttq2tMvmBl"
      },
      "source": [
        "Задание 5."
      ]
    },
    {
      "cell_type": "code",
      "execution_count": null,
      "metadata": {
        "colab": {
          "base_uri": "https://localhost:8080/",
          "height": 513
        },
        "id": "K03x8nU1kBSd",
        "outputId": "c18c68bc-9ffe-47e5-dd2f-8ec3fa1f2352"
      },
      "outputs": [
        {
          "data": {
            "image/png": "[encoded data removed]",
            "text/plain": [
              "<Figure size 432x288 with 1 Axes>"
            ]
          },
          "metadata": {
            "needs_background": "light"
          },
          "output_type": "display_data"
        },
        {
          "data": {
            "image/png": "[encoded data removed]",
            "text/plain": [
              "<Figure size 432x288 with 1 Axes>"
            ]
          },
          "metadata": {
            "needs_background": "light"
          },
          "output_type": "display_data"
        }
      ],
      "source": [
        "def exec(oracle, x_0): \n",
        "  grd, trace, funcs = gradientDescent(oracle, x_0, 'Division', 0.1, 0.1, 0.2)\n",
        "  plotLevels(oracle.func)\n",
        "  plotTrace(trace)\n",
        "  plt.show()\n",
        "  \n",
        "exec(QuadraticOracle(np.array([[1.0, 1.0], [1.0, 1.0]]), np.zeros(2)), np.array([3.0, 3.5]))\n",
        "exec(QuadraticOracle(np.array([[1.0, 2.0], [2.0, 5.0]]), np.zeros(2)), np.array([5.0, 2.0]))"
      ]
    },
    {
      "cell_type": "markdown",
      "metadata": {
        "id": "tocqN19Kvs35"
      },
      "source": [
        "Задание 6.\n"
      ]
    },
    {
      "cell_type": "code",
      "execution_count": null,
      "metadata": {
        "id": "vbMVKJfTkE4u"
      },
      "outputs": [],
      "source": [
        "def buildDeps():\n",
        "    # размерности\n",
        "    dims = [10, 100, 1000]\n",
        "    colors = ['r', 'g', 'b']\n",
        "    # числа обусловенности\n",
        "    kappas = list(range(1, 1000, 100))\n",
        "    # число сэмплов\n",
        "    number_of_samples = 3\n",
        "    T = {}\n",
        "    for n, color in zip(dims, colors):\n",
        "        T[n] = [[] for _ in range(number_of_samples)]\n",
        "        for i in range(number_of_samples):\n",
        "            for kappa in kappas:\n",
        "                np.random.seed(1000 + i)\n",
        "                diag = np.random.uniform(low=1, high=kappa, size=n)\n",
        "                diag[0], diag[-1] = 1, kappa\n",
        "                A = diags(diag).toarray()\n",
        "                b = np.random.uniform(low=1, high=kappa, size=n)\n",
        "                _, _, funcs = gradientDescent(QuadraticOracle(A, b), np.zeros(n), 'Division', 0.1, 0.1, 0.2)\n",
        "                T[n][i].append(len(funcs))\n",
        "            plt.plot(kappas, T[n][i], color=color, alpha=0.3, linestyle = '-.')\n",
        "        plt.plot(kappas, np.mean(T[n], axis=0), color=color, label='n = {}'.format(n))\n",
        "    plt.legend()\n",
        "    plt.grid()\n",
        "    plt.ylabel('Количество итераций $N(n, \\kappa)$')\n",
        "    plt.xlabel('Число обусловленности целевой функции $\\kappa$')"
      ]
    },
    {
      "cell_type": "code",
      "execution_count": null,
      "metadata": {
        "colab": {
          "base_uri": "https://localhost:8080/",
          "height": 430
        },
        "id": "MTh1SiHykHH_",
        "outputId": "2bc3c262-c759-45a9-ce70-e396921f68be"
      },
      "outputs": [
        {
          "name": "stderr",
          "output_type": "stream",
          "text": [
            "/usr/local/lib/python3.7/dist-packages/ipykernel_launcher.py:19: RuntimeWarning: invalid value encountered in add\n",
            "/usr/local/lib/python3.7/dist-packages/ipykernel_launcher.py:15: RuntimeWarning: invalid value encountered in double_scalars\n",
            "  from ipykernel import kernelapp as app\n",
            "/usr/local/lib/python3.7/dist-packages/ipykernel_launcher.py:19: RuntimeWarning: invalid value encountered in add\n",
            "/usr/local/lib/python3.7/dist-packages/ipykernel_launcher.py:15: RuntimeWarning: invalid value encountered in double_scalars\n",
            "  from ipykernel import kernelapp as app\n",
            "/usr/local/lib/python3.7/dist-packages/ipykernel_launcher.py:15: RuntimeWarning: invalid value encountered in double_scalars\n",
            "  from ipykernel import kernelapp as app\n"
          ]
        },
        {
          "data": {
            "image/png": "[encoded data removed]",
            "text/plain": [
              "<Figure size 432x288 with 1 Axes>"
            ]
          },
          "metadata": {
            "needs_background": "light"
          },
          "output_type": "display_data"
        }
      ],
      "source": [
        "buildDeps()\n",
        "plt.show()"
      ]
    }
  ],
  "metadata": {
    "colab": {
      "collapsed_sections": [],
      "name": "lab1.ipynb",
      "provenance": []
    },
    "kernelspec": {
      "display_name": "Python 3",
      "name": "python3"
    },
    "language_info": {
      "name": "python"
    }
  },
  "nbformat": 4,
  "nbformat_minor": 0
}
