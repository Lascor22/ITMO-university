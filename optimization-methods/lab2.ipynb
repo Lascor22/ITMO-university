{
  "nbformat": 4,
  "nbformat_minor": 0,
  "metadata": {
    "colab": {
      "name": "\"lab2.ipynb\"",
      "provenance": [],
      "collapsed_sections": []
    },
    "kernelspec": {
      "name": "python3",
      "display_name": "Python 3"
    },
    "language_info": {
      "name": "python"
    }
  },
  "cells": [
    {
      "cell_type": "markdown",
      "metadata": {
        "id": "XdklKfjTL7Y8"
      },
      "source": [
        "**Лабораторная работа 2**\n"
      ]
    },
    {
      "cell_type": "code",
      "metadata": {
        "colab": {
          "base_uri": "https://localhost:8080/"
        },
        "id": "JrBgGQ0EJ4NA",
        "outputId": "90e0276a-4728-4097-cc75-1034abf152b7"
      },
      "source": [
        "!pip install memory_profiler"
      ],
      "execution_count": null,
      "outputs": [
        {
          "output_type": "stream",
          "name": "stdout",
          "text": [
            "Collecting memory_profiler\n",
            "  Downloading memory_profiler-0.60.0.tar.gz (38 kB)\n",
            "Requirement already satisfied: psutil in /usr/local/lib/python3.7/dist-packages (from memory_profiler) (5.4.8)\n",
            "Building wheels for collected packages: memory-profiler\n",
            "  Building wheel for memory-profiler (setup.py) ... \u001b[?25l\u001b[?25hdone\n",
            "  Created wheel for memory-profiler: filename=memory_profiler-0.60.0-py3-none-any.whl size=31284 sha256=ac054686e8cbc76fe591a6643ed76082e64ac1542c7b31825b73d169b20e92da\n",
            "  Stored in directory: /root/.cache/pip/wheels/67/2b/fb/326e30d638c538e69a5eb0aa47f4223d979f502bbdb403950f\n",
            "Successfully built memory-profiler\n",
            "Installing collected packages: memory-profiler\n",
            "Successfully installed memory-profiler-0.60.0\n"
          ]
        }
      ]
    },
    {
      "cell_type": "code",
      "metadata": {
        "id": "_uz-TSP7MUxS"
      },
      "source": [
        "import numpy as np\n",
        "import scipy\n",
        "import matplotlib.pyplot as plt\n",
        "from math import e\n",
        "from matplotlib.colors import ListedColormap\n",
        "from datetime import datetime\n",
        "from scipy.linalg import cho_factor, cho_solve\n",
        "from numpy.linalg import norm\n",
        "from scipy.optimize import minimize\n",
        "from scipy.optimize._minimize import _minimize_powell\n",
        "from scipy.optimize.optimize import _linesearch_powell, wrap_function\n",
        "from memory_profiler import memory_usage\n",
        "from abc import ABC, ABCMeta, abstractmethod\n",
        "import dataclasses\n",
        "from typing import List\n",
        "from sklearn.datasets import make_regression\n",
        "from sklearn.model_selection import train_test_split"
      ],
      "execution_count": null,
      "outputs": []
    },
    {
      "cell_type": "code",
      "source": [
        "np.random.seed(42) # set seed of random"
      ],
      "metadata": {
        "id": "DZUzp9__C1PJ"
      },
      "execution_count": null,
      "outputs": []
    },
    {
      "cell_type": "markdown",
      "source": [
        "![image.png](data:image/png;base64,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)"
      ],
      "metadata": {
        "id": "q65lKH7t9kPg"
      }
    },
    {
      "cell_type": "code",
      "source": [
        "def calc_diff(w, x, y):\n",
        "    return 2 * (np.dot(w, x) - y) * x\n",
        "\n",
        "def calc_error(w, x, y):\n",
        "    return (np.dot(w, x) - y)**2\n",
        "\n",
        "def validate(w, X, Y):\n",
        "  err = 0\n",
        "  for i in range(len(X) - 1):\n",
        "    err = err + calc_error(w, X[i], Y[i])\n",
        "  return err / len(X)\n",
        "\n",
        "def predict(w, x):\n",
        "    return np.dot(w, x)"
      ],
      "metadata": {
        "id": "CvXgRzMrDEOB"
      },
      "execution_count": null,
      "outputs": []
    },
    {
      "cell_type": "code",
      "source": [
        "def SGD(minibatch_size, num_iters, optimizer, X, Y):\n",
        "    n = len(X)\n",
        "    w = np.zeros(len(X[0])) # assume that last elem in w is b\n",
        "    for i in range(num_iters):\n",
        "      perm = np.random.permutation(n)\n",
        "      k = 0\n",
        "      while k < n:\n",
        "        grad = np.zeros(len(X[0]))\n",
        "        for j in range(min(minibatch_size, n - k - 1)):\n",
        "          idx = perm[k + j]\n",
        "          grad = grad + calc_diff(w, X[idx], Y[idx])\n",
        "        w = w - 0.0001 * grad\n",
        "        k = k + minibatch_size\n",
        "    return w"
      ],
      "metadata": {
        "id": "Oumv3Z_kB_m9"
      },
      "execution_count": null,
      "outputs": []
    },
    {
      "cell_type": "code",
      "source": [
        "num_features = 10\n",
        "num_samples = 100\n",
        "X, Y = make_regression(n_samples=num_samples, n_features=num_features)\n",
        "\n",
        "new_X = []\n",
        "for x in X:\n",
        "  arr = [1]\n",
        "  for elem in x:\n",
        "      arr.append(elem)\n",
        "  new_X.append(np.array(arr))\n",
        "\n",
        "X = new_X\n",
        "\n",
        "X_train, X_test, Y_train, Y_test = train_test_split(X, Y, test_size=0.2, random_state=42)\n",
        "\n",
        "#build plot\n",
        "x = []\n",
        "y = []\n",
        "for i in range(num_samples):\n",
        "  w = SGD(i + 1, 100, None, X_train, Y_train)\n",
        "  x.append(i+1)\n",
        "  y.append(validate(w, X_test, Y_test))\n",
        "\n",
        "plt.plot(x, y)\n",
        "plt.show()"
      ],
      "metadata": {
        "id": "-n49_rb_SwPo",
        "colab": {
          "base_uri": "https://localhost:8080/",
          "height": 265
        },
        "outputId": "ea23cee0-b78d-4164-abfe-c1c47698f9b7"
      },
      "execution_count": null,
      "outputs": [
        {
          "output_type": "display_data",
          "data": {
            "text/plain": [
              "<Figure size 432x288 with 1 Axes>"
            ],
            "image/png": "[encoded data removed]"
          },
          "metadata": {
            "needs_background": "light"
          }
        }
      ]
    },
    {
      "cell_type": "markdown",
      "source": [
        "![image.png](data:image/png;base64,iVBORw0KGgoAAAANSUhEUgAAAkYAAAA5CAYAAADTNuRRAAAT7klEQVR4nO3de1BU1QMH8C+6mEqpaT4SVxmL1pJC0yTNH+ZgSkKTCJQzjdlY+cAa/KN8jI/ENzL2XBWKWWILBGWxQlLMdErNoiLKRbFREEsDCXlIyyC45/eHu3dc2L33Liw+v58Zhr3nnD3ve+/ZvXt3vYQQAkRERESETje6AkREREQ3Cy6MiIiIiGy4MCIiIiKy4cKIiIiIyIYLIyIiIiIbLoyIiIjcYDAYbnQV2u12aENHkV0YrVu3DkOHDkVAQAD0er0UrtfrERAQgKFDh2LdunUdXkkiIqKbgdFoRFBQUIfl//bbb8PLy0va/uqrr+Dn5+fxcoKCgmA0Gj2e7+1AdmG0bNkyBAUFISwsDG+88YYUvmDBAvTq1QtBQUFYtmxZh1eSiG49K1euxOTJkwEAkydPxsqVK29wjYjap6GhAQUFBRg+fHiHlZGQkOCwrdPp8NJLL3m8nOHDh6OgoAANDQ0ez/tW16ZLaXv37kVAQICn60JEtxF/f3906dIFBQUF6NKlC/z9/W90lYjaJTc3F2PHjr2uZep0ug67MjN27Fjk5uZ2SN63MrcXRlVVVdBoNOjZs2dH1IeIbgP19fWIiIhAXFwc/v77b8TFxSEiIgL19fU3umpEbbZ3716MHz/+upZZW1uLo0ePdkje48ePx969ezsk71tZ51WrVq2SS2AymdCzZ08888wzAICsrCxERERg//79qK2tRVRUFACgubkZCQkJKCsrQ2lpKcrKyvDggw8qxgFASUkJlixZgubmZhw7dgwBAQEYPHgwRo4cKT1/5cqVqKqqQnp6Ovr164f+/fsDAGpqarB161bs27cPFy5cQGxsLIxGIwIDAzFgwAAAQGJiIk6dOgWz2YzDhw9j9OjRUtnJyckYNWoUhg0bBrPZjE2bNmH48OHo06ePlKaoqAjfffcdjh8/ji1btuCpp55C165dER0dDSEEVq1ahR07dkAIgbi4OLzwwgsOeQ8aNAiPP/646kFRUye5PktJScGYMWPg4+MDf39/JCYmYsKECdBqtVKfAsDatWvx448/ory8HIcOHcLYsWOlNGryUJNGbuycsefZv39/lJWVtaoXACxZsgShoaHw8/NDaWkp8vLy8NNPPyEoKEi6Nt+eOdOeOaGmfmr6TWluKfWr3PxQmpdq54/cfvXFF18gKCgIgYGBePbZZ/HNN9/g6aefxqOPPip7GaK9ZauZG6mpqQgNDcX999+Pxx57TMpz9+7dCAwMhFarxYgRIxTHWamf1bZn/vz5EELAbDbjgw8+QJcuXRyOj67qYH88ZMgQ9O7dG3PnzsWGDRswZswY3H///arLV9vnzqg5/rqqv6fqZjQaMWrUKAwcOBCBgYHo1KkTrly5gsTERIwdOxZ+fn4IDAyU0oaGhqKwsBDTp0/Hxo0bERsbi6FDh+KBBx6QbStw9TJXbGystJ2eno4///wTp06dQlJSEqZMmQJA+ZynNK/i4uJgPzVv3LgRL7/8srRtn+MBAQE4efIkUlNTcebMGYd9WQiBTz75BEVFRfjpp5/w7bfforKyEgsWLMCsWbOkdD169EBCQgJmz54t224146DUJmdc9ZOacZI7/rSbUDBjxgyxaNEiIYQQx44dE8eOHRNCCLFo0SIxY8YMKd2GDRvEhg0bhBBCbN++XQwbNkxVnN2ePXukxy2rtXz5cpGUlCSEEOLkyZNiypQpDvElJSXCbDYLIYSIjY0Vq1evluISExOFXq+XtvV6vUhMTHR4/rXlffjhh+KFF15wiI+NjRWzZs0SQgiRlpYmXnvtNSGEECaTSQghxJo1a8SaNWscwly1RS2lOgkh32c+Pj7iwoULQgghdu/eLXx8fBzi8/PzRc+ePcWVK1eEEEJcuHChVZpr83AWr6YcpbFzRm25v/zyi7QdGRnpMM7tmTNCtH1OqK2fUr8pzS01/So3P5TmpdIYqNmvrs1j165dTsexI8pW6nshhIiPjxfjxo1zCMvKyhL9+vVzCFMaZyHk+7lle5yNdXZ2tvT4hx9+EAEBAarqcPnyZYe8UlJSxNy5c90uX20aV5T2Jbk+dPcY4yqNt7e3aGhocAhraGgQ3t7erdLm5OSIcePGiaamJpGWliYuXryouq3BwcEO2y+99JL0OD09XXqsdM5TmldK+6uPj48wGAxCCCHOnDnTat5u375dhIeHCyGEsFqtYuTIkeLQoUPCYrEotskVpXFQs6+0JNdPcuOk5vjTHqovpQkhUFBQ4PKzRUlJSQgNDQUATJs2Dbt27VIVp4bBYMDEiRMBAA899BB++OEH1c/V6/UICQmRtkNCQhzusLOrrq7G6dOnsX//fsyfP98hbvny5Vi3bh2amprQvXt3lJSUAACGDRvWKh9nYdXV1aiurkZTU5PqeivVSa3y8nL89ddfrcL9/f1xzz33oKKiQvb5NTU1qK6uRk1NTZvKac/YKRk8eLD0+JVXXsF7773n0XLbMifU1s/OVb8pzS1PtU9uXsqNvdr9CgDOnTuHyspKt+rW3rKV+l6n06FTp044ceIEAODkyZNO+1zNOKvlaqwjIiIAXH31/P333+PNN9/skDq4Kt/dNO5Sqr+aY4yaNPb5fOXKFdn6hIeHY8iQIVi0aBH8/Pxw7733qm5LbW2tw3ZhYSE2b96M4uJi6d0iQPmc54kxnTRpEgCge/fu+O+//xzijh07Bq1WCwDw8vKCr68vzGYzunXrptgmOXLj0JY2yfWT3Di5c/xpC9ULo/379yMsLMxl/JkzZ3DfffcBALp27epwkJGLs5NbNJw/fx6HDx9GTk4OcnJy8PHHHzvEV1RUSG/btmQ2m6HRaKRtjUYDs9ncKl1hYSHOnj2L0aNHo1+/fg5xVqsV8fHxSE5Oxj///COFP/LII63ycRZWWFiII0eOIDo6Gvv27XPZTnfqBMj3mV1ubi4iIyNbhffq1Qu//fYbEhMTERUVhd27dzt9flFREQoLC1FUVNSmcpTGzlMGDRqE06dPqy5Xbs7YtWVOqK2fnat+U5pbavpVaX4ozUu5sVe7XwFXP5cxbdo02bp0VNmA676fN28ekpKSAADFxcXQ6XSt0qgZZ7UveFyNNXB1YbZr1y5cvHgR48aNc7sO7S3fnTQtKe1LSvVXc4xRk+aPP/7A0aNH8fzzz+PQoUOydU5ISEBKSgp8fX1l0ylJS0vD3r17MXr0aIcTs9I5zxNjKneZKioqCj///DMuX76MS5cuoaSkRPb8rZbcOLSlTUr95GqclI4BXl5eDn/u0ignubqibG5udviMRUsDBw5EbW0tBg0a5FacGn5+fhgzZozLzyZUVVXhySefdBrn6+sLi8UibVssFqc7g/3Vd9++fREWFobS0lIpLjIyEnPmzMHMmTNx5MgRZGVl4d9//5UGVIk97wEDBuC5555TPWnk6qSGyWSSPSH16tUL+/btQ2xsLEJCQlq9UgWAp556Cn379pV9xS9XjtLYeUp5ebn0uQo15crNGTtPzomW9QOUx0eOJ/pVaV7Kjb3a/Wrnzp3S5xDd4Ymy7Zz1PXD15LFq1SqsWLECPj4+Tp/b3n3fTmmsdToddDodAgMDERoa6vBq21Ud3LkBRs1ca+t8VNqXlPpQzTFGTZoJEyaga9eu0Gg0mDlzJoqLi12mzc/Px6ZNmzBnzhzk5eWpaOVVPXr0cNi2WCz45ptvcPHiRfzvf/+TvpJC6ZznqXnlSrdu3TBr1ixkZ2fDarVi//79TvcBZ22SIzcObWmTUj+5GielY4AQQnWbnFH1jpHZbJbe7nJl9uzZyMnJkbavfUtMLi4yMhKVlZUOjXSW97WvaFu+LXnp0iWXz42JicGBAwek7QMHDiAmJsZl+kuXLrX6XoejR49Kt2iWlZUBAH799VeXebjS1NQEb29vt5/Xsk5q+gwAtFqt7Cu5NWvWYOjQoZgxY4bbdVJbjtLYtce1O2d6errDd221Z8601NY5IVc/QHl85Mi1T+38sGvLvFS7X/n5+Tl9t7M91JSt1PcAcNddd2Hq1KlYuHAhgoODnZYlN87u9LPcWF97bOzcuXOrO/c8cfxRM9faOh+V9iVPHT/VUprPBQUFGDRoEF5//XVoNBp89tlnqvNuecLNzMwEAPTu3dvhNn65cx7Q8X1y/vx5FBUVwdfXF1qtFpWVlbBarU7TtncRYdeWNsn1k9w4uXted5fiN1/n5+ejpqYGW7ZskcL1ej1yc3ORn58vfb/CO++8A4vFgk8//RTZ2dkOqze5uMuXLyMrKwtjxowBcPWzEw8//LDD15UvXboUDQ0N2LFjB3JycqTnNzQ0YP369RgxYgTq6+ulv/Pnz0snssWLF6Ourg4ZGRnIyMhAXV0dFi9eLOWdnJwMAFJ8QkKCNNnt4uPj8dFHH+GLL75A//79odFocPr0aQghYDKZcPDgQRw8eBAmk8lhkl2bt9FodJq3M0p1Uuozg8GAxsZGFBcXo7KyEkajEY2NjQ59+vbbb2PdunUIDg6GxWJplcaeh9FodJmHmnJcjZ0rasq127NnD/Lz87F161ZotVq89dZbiuWqmTPtmRNq6qem35Tmlly/Ks0PpXmpZgyU9it7HsePH0dlZSVSU1NdjuO1PFG2XN/bx279+vUoLi5GTEwMtFotrFYrkpOTUVdXh9TUVFXjrObYpWase/bsiZycHJhMJrz//vutTtSu6nD27FlYrVZUV1ejvr4edXV1qKiocFjEqylfTRpn1OxLcvV35xgjl8ZoNMJqtWLHjh34/PPPkZycjPT0dBgMBlitVodvd962bRumTp0qXV4ZPHiwdCedGjqdDufOnZO2y8vL8dVXX8FkMkl3bgPy5zy5PgGu3pF27f8VK1Y4/F+9ejUaGxulu7kSEhLQ2NiI1atXS/n7+/ujpKQEer0eer0esbGxeOyxx6TP1NmdO3fO6SXkltSMg5pjYkuu+klpnNQcA9rDS3hquXgDREREYMqUKRgyZIhDeFlZGfLy8jz67gTdXO6++26UlpZKH/Tr1auXquddrznT1vpR+90pfb9nz55WYRcuXJBO1B3tTjz+ZmVl4cqVK3jxxRdvdFVkBQcH4+uvv8bdd98thX377bdITU11WARmZmaic+fObbrcfTtT9Rmjm1V4eDheffVVp3FtuWRFt56BAwe6lf56zxl360eec7v3/bPPPus0vHPnztel/Dvx+BsWFoalS5fe9AujxsbGVmFNTU3o27evQ9jRo0exYcOG61WtW0abfhLkZiF3m6U7t2DSrWXNmjW4fPkyEhIS3LrVFLg+c6Y99aP2Yd/juv0qwZ14/O3WrRtGjhypeJfujZaRkYFt27Zh586dyMnJgcFgwKlTpxwWQUVFRRg5cqTTW/jvdLf0pTQiIqLrzWAwKH5b9M3udmhDR+HCiIiIiMjmlr6URkRERORJXBgRERER2XBhRERERGTDhRERERGRDRdGRERERDZcGBERERHZcGFEREREZMOFEREREZGN7MKopqYG7777LuLi4rBjxw5MmjQJkyZNwu+//w4ASElJgbe3NzZv3ozKykps3rwZ3t7eSElJAQCkpqZiwIABSEtLc8h39+7d6Natm8OvWANAYmKi9Gu5iYmJUnhzczPi4+ORlpaGL7/8Enl5eVJcdHQ0MjMzERUVhaioKGRmZiI6OlqKT05OhpeXl/SL4kRERESuKH7zdWlpKSwWC4YPH46FCxeiT58+WLFihRRv/yXrvn37Ijc3Fy+++CLq6+ul+E2bNuHLL7/EkSNHpDCTyYSYmBhUVFRIYUlJSWhubsaCBQsAAFu2bIFGo8HcuXOxceNGAMCSJUuQkZGBuLg4nDhxAgCQnZ2N6dOnY+3atQCA5cuXS2FSI728wC/4JiIiIiUeu5RWXl6Ov/76q1W4TqdDp06dpIXMyZMnMWzYsFbp9Ho9QkJCpO2QkBDo9XoAVxdNoaGhAIBp06Zh165dUjpneTkLq66uRnV1NZqamtxsGREREd0pFBdGFRUVGDBggGJGubm5iIyMdBo3b948JCUlAQCKi4uh0+lapTGbzdBoNNK2RqOB2WwGAJw5cwb33XcfAKBr164OC59HHnmkVV7OwgoLC3HkyBFER0dj3759iu0hIiKiO4/iwqiqqgp9+vSRTWMymRAWFuYyPioqCrm5uaiqqoKPj4/TNL6+vrBYLNK2xWKBr68vAGDgwIGora1VqqqsiRMnIjw8HMuXL8esWbPalRcRERHdnhQXRpcuXVLMRKvVyr6rdNddd2Hq1KlYuHAhgoODnaaJiYnBgQMHpO0DBw4gJiYGADB79mzk5ORIcddeSnNXU1MTvL29HcKeeOKJNudHREREtw+XC6OGhgasX78eI0aMQH19vfR3/vx5NDQ0AAAMBgMaGxtRXFyMyspKGI1GNDY2wmAwAADi4+Oxfv16FBcXIyYmBlqtFlarFcnJyairq3O4K23x4sWoq6uT7kqrq6vD4sWLAQDvvPMOLBYLPv30U2RnZ0vvJAGAEAImkwkHDx7EwYMHYTKZHD5obb8bLSMjA0ajEQkJCcjMzPRgFxIREdHtwuVdaREREZgyZQqGDBniEF5WVoa8vLx2vWtDREREdDPSuIoIDw/Hq6++6jSu5aUoIiIiotuBy0tp9957r8snycURERER3aoUv+CRiIiI6E7B30ojIiIisuHCiIiIiMiGCyMiIiIiGy6MiIiIiGy4MCIiIiKy4cKIiIiIyIYLIyIiIiIbLoyIiIiIbLgwIiIiIrLhwoiIiIjIhgsjIiIiIhsujIiIiIhsuDAiIiIisuHCiIiIiMiGCyMiIiIim/8DjHzliW5EZxgAAAAASUVORK5CYII=)"
      ],
      "metadata": {
        "id": "y60pDTxk9wYm"
      }
    },
    {
      "cell_type": "markdown",
      "source": [
        "![image.png](data:image/png;base64,iVBORw0KGgoAAAANSUhEUgAAAkEAAAAyCAYAAABbLQ/rAAAbnUlEQVR4nO3daVQVRxoG4Fe9BATiggoo4IIbRiJG2RWIMhEcExKDCIlRo2RciA7mHDVCHI9BEAQdPcoYVLwOOOIGKouCyqDElSQuDJcIbkBUIIBsIjt+88Ohh/ZuzQ6hnj/SVdXV1VXVfcvu6u5eRERgGIZhGIbpYXp3dgEYhmEYhmE6AxsEMQzDMAzTI7FBEMMwDMMwPRIbBDEMwzAM0yOxQRDDMAzDMD0SGwQxDMMwbUIsFnd2ERimWWQOgvz8/GBoaAhjY2MEBwdz4cHBwTA2NoahoSH8/Pw6rJBM95GRkYFVq1ahV69eKC8v7+ziMAzTQcLDw2FhYcEt+/n5wdLSEsOGDUNxcTEXXlZWBk9PT+jq6mLdunWdUdRuw8/PD2ZmZjAzM5Obxt7eHkZGRuw3uYV6yXtP0GeffYbhw4dj27ZtXBgRwcbGBgYGBjh69GiHFZLpXsrLy9G/f3+UlZWhX79+nV0chmHaWVVVFby8vLBr1y5eeFRUFHbt2oWxY8dKXSU6evQoPvvss1ZtNz4+HrNnz25VHl1dVFQUPD09kZiYCCMjI17c/fv3ERgYCAAIDQ3tjOIJ0pXbqVm3wxISEmBsbNxeZWEYhmG6obNnz8LKykoqXCQSISQkBCdOnMDFixd5cerq6q3e7t27d1udR1enoqICFxcXRERESMVlZGRg/PjxnVCq5unK7SR4EPT8+XOIRCL079+/PcvDdHN1dXUKlxmG+eNJSEjA9OnTZcZNnDgR69evx8qVK1FZWdlm28zJycEPP/yA/Px8lJSUtFm+XZGrqytOnDjR2cVoka7eTn02b968WVZEVFQU+vfvjw8++AAAEBkZiblz5yIxMRFlZWWYN28eAKC+vh5BQUHIyclBVlYWcnJyMGbMGKVxAPD48WNs2LAB9fX1SEtLg7GxMYYPH4733nuPW3/Tpk14/vw5IiIioK2tDR0dHQBAaWkp9u7diwsXLqCgoACenp4IDw+HiYkJdHV1AQAhISF4+PAhJBIJrl69ClNTU27boaGhmDp1KoyMjCCRSBAYGIiJEydi0KBBXJr09HQkJyfj119/xT/+8Q9MmzYNampqcHFxARFh8+bNOHHiBIgI33//PebPn8/LW19fH1OmTGmblnpDWFgYHB0dMXToUEyaNIkLj4uLg4mJCQwMDDB58mSl9aCsLuPj42Fubg4NDQ2MHTsWISEhsLOzg4GBAddOAHDmzBmEhoaioaEB//73v3H+/Hno6OigpKQE+/fvR2VlJXcp99ChQ0rzPHjwIMzNzTFo0CBMmTIFp06dwty5c2FkZITRo0crbB8A3PKIESOgpaWF5cuXw9/fH+bm5hg6dKigMghJ0xaCg4Mxa9YsjB07Fnfu3MGmTZvg5uYGANiwYQMcHR0xcuRIZGVl4fz580hJSYGFhQV69eqltB6Uta+urq7S/VR0HAqpI2XHi5A8FPVhRfWnbN22oOg817hvOjo6yMnJwZUrV2BlZcXt2759+2BlZYXKykrMmDEDRUVFmDlzJvLz82FnZ6cw79YeI20pKCgInp6eUuGZmZkwMjKClZUVxGIxnjx5glmzZvHiGutQXh+LiIjA/fv38fDhQ+zbtw8ODg4AXp/rIiMjMWbMGJSXl/N+d+Tl5eXlBQcHB1haWiIuLg4rV67EihUrAMjvJ97e3nB0dERmZiacnJyQk5MDMzMz/Oc//4GTk1Ob16WsOrS3t8eePXtgbm4OfX19AEBKSgreffddpKam4vnz57yyKOrz3377LRwdHWFpaYnbt2/j2LFjSE1NRX19PVJSUhAeHo6HDx/y5iEpqtPGc5SxsTEyMzMRFhaG7Oxs7rdPXjt99913cHBwwMqVK9HQ0IC1a9di/vz58Pb2blVZm43kcHNzo/Xr1xMRUVpaGqWlpRER0fr168nNzY1L5+/vT/7+/kREdPToUTIyMhIU1yg+Pp77+83ibNy4kfbt20dERJmZmeTg4MCLf/z4MUkkEiIi8vT0JB8fHy4uJCSEgoODueXg4GAKCQnhrd90e7t376b58+fz4j09PWnx4sVERHTkyBH66quviIgoKiqKiIi2bNlCW7Zs4YXJ25f2sG3bNrK2tuaFRUZGkra2NrcspB6IFNelhoYGFRQUEBFRXFwcaWho8NY9fvw4WVhYUFVVFRER5eXlEQDKy8sjIqKqqiqysLCg48ePC86TiOitt96ily9fUk1NDe3evZvKy8t58fLah4iotraWl+ehQ4do+fLlvPWFlEFImtYqLy8nfX19bjkiIkKqDL/88gu37OzszGtTRfXQSFH7Nm5D3n4qOw6brltQUCBVR0KOF0V5KOvDiupPaP9vDWXnOWX14+TkRLt37+aWw8PDBefdmmOkLdna2soMP3PmDPf3Tz/9RCKRiH766SepOEV9bMGCBdzfbx4bWlpaUttU1l91dXUpNDSUCgsLadOmTUSkvJ84OTnxlo8dOyZzf9tDdHQ0ERH5+vqSh4eHVHhgYCC5u7tz4UL6vKqqKh09epSIXh8/6urqFBMTQ0RE+fn5UvUq5BwgFouJiCg7O5v3G0Qku50a11N0bLSkrM2l9HYYEeH27dty5wLt27cPjo6OAIBPPvkEp0+fFhQnhFgsxowZMwAA48aNw/Xr1wWvGxwcDHt7e27Z3t6e96Rbo5KSEjx69AiJiYlYuXIlL27jxo3w8/NDXV0d1NXV8fjxYwCQmpwmL6ykpAQlJSXtdkto/Pjx6N27N+7duweA/z+rRkLrQYj8/Hw8efJEKnzjxo1YvHgx9z/Mxnv9jf+qqalh8eLF2Lhxo+A8G5WWlmLNmjVYvnw53n77bantymqfttqv5qZpK41X8JoaPnw49/eXX36JnTt3csttVQ+A7P0UchyWlpaipKQEpaWlUnFCjxd5eTS3Dzetv7bs//K09jy3dOlSHDt2DMDrJ6eGDRvWrLw74hhRpqysTGkaMzMzrFq1Cu7u7qivr+fFKepjd+/exY4dO5CRkcFdBVJESH8dO3YsBg8ejO+//x6A8n6yYMECHD58GMDrSeCd8cCHq6srTp8+jdraWtTW1sq9oie0zzemUVdXR2VlJWbOnMktv3z5kpdWSJ3+6U9/krt+azWnrM2ldBCUmJiIOXPmyI3Pzs7G4MGDAbz+sWt6clMU10jRACE3NxdXr15FbGwsYmNjsX//fl7877//zt36epNEIoFIJOKWRSIRJBKJVLq7d+/it99+g6mpKbS1tXlxr169wrZt2xAaGoq8vDwu/J133pHKR1bY3bt3ce3aNbi4uODChQty97M1VqxYgX379gGQPUlOaD0oqstGZ8+ehbOzs1T4gwcPuMvv8owePRoPHjwQnGfT+B9//FFqUiUgv32aS1kZhKZpKxMmTFAYr6+vj0ePHnHLQupBSPsCsvdT2XEIvL7tcvfuXaSnp0vFCT1e5OUhtA83alp/zV23JYSc5xT58MMPkZ2djfT0dFy+fBnvv/9+s/LuiGOkrfj6+qKiooL31DGguI8dOXIECQkJMDU1lTuAbTqoEtJf35zbqqyffPTRR8jIyMDDhw9x4cIFXht1lDFjxsDAwABJSUlISUmBubm5zHRC+/ybgyhFt0mF1KmQ26xvDn6Fak5Zm0ukKLKsrAz19fW8eTJvGjZsGMrKyrj7lELjhBg5ciTMzc0xceJEmfHPnz+HpaWlzDg9PT3eJLzKykro6elJpWsc3Q4ZMgRz5sxBVlYWF+fs7Ixly5Zh4cKFuHbtGiIjI1FUVMSdlJRpzFtXVxcfffRRu5yE5s2bh82bN+Nvf/sbNDQ0pOKF1oOiugRezxH75JNPZMbp6+sjNzdXYTlzc3Ol+oGiPBstWLAA48aNw5dffonp06fzTl6tbR+hZRCSpiPl5+dj6NCh3LKQelDWvoD8/VR2HALAtGnTMGTIEBQWFrZgjxTnIbQPy9KadYVq7XmuT58++PzzzyEWi2FpaYk+ffo0K+/2PkaEEHplRENDAyEhIfj4449577VR1McqKytx8eJFFBcXw8bGBps2bZJKc/nyZe5KhJD++iZl/aRv3774/PPPER4eDjMzM/Tt21dw3m3piy++wJEjR+Di4oIBAwbITNMefb4ldSpL03bqKhReCZJIJNylWHmWLl2K2NhYbrnp5VpFcc7OzigsLFT4tMDSpUt5V1DevBT84sULuet6eHggKSmJW05KSoKHh4fc9C9evEBVVRUv7MaNG9xjnzk5OQCAW7duyc1Dnrq6OqioqDR7PSFUVVXx5z//GWvWrIGtra1UvNB6UFSXAGBgYCD3SoK3tzfCwsLw6tUrAP+/utf476tXrxAWFsab8KYsz6bs7Ozg5OQELy8vXnhbtI+QMggtZ3tqOjCIiIjAqlWruGUh9aCsfQH5+6nsOGxvzT2W22pdoRSd54RasmQJwsLCpH5khObdnseIECT7dXMyz++zZs3C/PnzeVeGFfWx48ePAwC0tLSkHsMfMGAAqqqqeHcUWtJfhfQTNzc3hISEYMiQITLzsLa2Vrqdlmhah66uroiNjYWmpqbc9O3R51t7DpDVTsDr21kNDQ0AgB9//LFVZWyqOW0h8+kwPz8/xMXFoaGhAUTEXXYLDg7G0aNHkZOTg4qKCtja2sLW1haJiYnIycnB48ePoa+vz406FcX961//Ql1dHezs7DBw4ECIxWI8ePAAffv25Z4ImTZtGpKTk5GXl4fHjx9j6NCh0NPTQ1VVFYKCgjBjxgyoqamhtrYWMTExqKyshL29PVRUVGBtbY3ExETk5eVBIpEgNzcXXl5e6N379bgvNDQUsbGx3NNhBw4cwPbt2zFy5EiuHjQ0NHDx4kXU1NRAS0sLN27cgLa2NkxNTXHq1CmcPHkS2dnZ0NTUxIQJE7indZrmffv2bYjFYuzcuRMGBgYtaU+Ztm3bhv3798PGxgbm5ubIysqCra0txGIxYmJiuKfDlNWDsro8fPgwzpw5g8mTJ2Ps2LEIDw/H+fPnoa+vz7WTmZkZXr58iePHj0NHRwdRUVG4ePEiBg8eDA0NDQQFBWH69OncgSgWi5XmefDgQcTExEBHRwdTpkxBVlYWfH19oaKiAhsbG4XtY2ZmhuzsbOzduxceHh5oaGjAzZs3IZFI8PHHH0NFRUVQGYSkaQsHDhxAbGwsRo0ahbFjx/IuZQPA1q1boa+vD5FIhOjoaPTq1Qve3t7cFQNF9SDkWFG2n/KOw6Z1NGTIELl1REQKjxdleSjrw4rqT9m6bUHReU5I/QCvr0Tn5eVh4cKFgvNu7THSlq5fv46pU6fyrgitW7cOgYGBePLkCaytrXm3MOzs7CCRSLir5Yr62D//+U+89dZbkEgkGDVqFG9+qo6ODjcoaAxXlJevry8SExNRUVEBNTU17kklIf1EX18fP//8M7755huu7zZ17tw5uLq6tlWV8uowNzcXtra2GDBgANLS0rB69WruHUwnT55ERkYGysrKYGtrq3RffHx8cOnSJRARzMzMEBAQgOTkZADA1KlTERAQgCtXrnDtpKxOfXx8kJSUhFevXmHcuHHYtWsXrl69yltfVjs1hl+6dAklJSUoKipCdHQ0ampquDlALSlrc9tC7huju7K5c+fCwcEBI0aM4IXn5OTg/PnzHf4/1e6sLeuyvr4ev/32GwYPHsy9MbqoqAjDhw+X+mFvb/Hx8VJhBQUFiImJQVRUVIeWpbU0NTWRlZXFTW6VdxlcFnasdA+1tbW4fPky9/h4dxMZGYmGhoY2HwR0J3fu3GnT/xwxLdectujYX6Y28uGHH8Ld3V1mXHvddvqjasu6FIlEMDQ05H0zzNDQsFXlayl5r2hvOt+iu2n61JBQ7Fjp2iZPnoxTp04hNzeX992t7mbOnDnw8vLq0YOg6urqzi4C8z/NaYtu+RX5gQMHtiiOkdbWdZmRkQF/f38AgL+/PzIyMlpctvbQ3d54vmXLFtTW1iIoKEjQY8hvYsdK12ZnZ4fr169z39vrrhqnMch6OrCnaOmTT0zba05bdMvbYQzDMEzXIxaLsXTp0s4uBsMIxgZBDMMwDMP0SN3ydhjDMAzDMExrsUEQwzAMwzA9EhsEMQzDMAzTI7FBEMP8j1gs7uwiMAzDMB1I6cTokydPAgBcXFwUZlRWVsZ9PqGioqJFhbl16xbCwsKgpaUFTU1N9OrVC59++in27NmDv//97y3Ksz3KGhAQgNDQUGhra8PJyQkAUFxcDE1NTaxdu5b7ejrw+u3bZ86cAQD8/PPPMvOzt7fHs2fPsHDhQnz33XdceHFxMXbu3Mk9OmtsbIw7d+5wr8b38/PD3r17YWxszH0y49GjRzA0NIS3t3ebvhW3LXVkn2qO9PR03Lp1C4sWLWr3bTEMwzBdACnh6upKrq6uypIREVFBQQFpaGgISvumgwcP0vTp06m8vJwXHhQURFpaWi3KU5HWlJWIyM3NjdavX88L8/X1JUdHR3r16hUvPDIykvT09OjevXtS+WRmZpK7uzu5u7vL3EZubi63fPDgQfr66695aWbPnk27d+/mha1evZq8vb2bvU8dpaP6VEt4enpSZWVlh22PYRiG6TwKLxWUlpZi0qRJOHfuHEpLS9ttIJaamor169cjOjoab7/9Ni9uzZo13Pddujo3NzckJCRAIpHwwlVUVODi4oKIiAipdTIyMjB+/HiZ+UkkEt7XwhctWiTorcEODg7Yu3dvM0vfMTqqT7WUlZUVzp4929nFYBiGYTqAwkFQcnIyvvnmGwwYMID3JeM3VVdXC/pKtTz+/v5wcnKClpaWVJxIJMKSJUtanPebWltWRUpLS6GmpgYdHR2pOFdXV5w4caJZ+T158oT3pWWRSCT3cxBNEZHMD/x1BR3Vp1pq+vTpSEhI6PDtMgzDMB1P4bfDevfujb59++LTTz/FqVOnpL5w3NDQgB07dmDgwIEYPXq01BWQRunp6fj1118BAJcuXcLWrVt5H4G8cOECfHx85JbD2dmZ+9vLywuBgYE4d+4c7t27h7CwMNy5c0fpdoSWtaUKCgrg4+ODH374Adra2lLxlpaWICKkpKRw3whKSUmBpaUlMjMzZeb5l7/8BTY2NliyZAk++OAD2NjYCPooXEJCAtasWcMtK6qzkJAQro5KS0uxYsUKbr0NGzZg+/btEIvF6NevH3JycgAAf/3rX1s8yOqIPvXtt99i+/btOHfuHMrKypCWlgYtLS2YmpoiLy8Pt27dwsiRI7Fy5UqpfPX09OS2B8MwDPMHI+8+2YsXL+jy5ctERHT79m1SV1enFy9e8NLs2LGDPD09ueWHDx/KnL/h6elJixcvJiKiI0eO0FdffcWLB0CHDx8WfA9PV1eXQkNDqbCwkDZt2iRoO0LLKpSbmxvNnTuXTp8+TZGRkWRnZ0fx8fEy00ZHRxPR6zlDHh4eUuGBgYEy5wQ1NDSQv78/GRkZUZ8+fcjIyEhqXtHs2bPJ3d2doqKiKCoqijZs2CA1R4hIdp2FhIRQcHAwlyY4OJhCQkJ462loaNAvv/zCLTs7O/PWaY6O7FOqqqp09OhRIiIqLy8ndXV1iomJISKi/Px8hfPMbG1tW7B3DMMwTHcjdxB04sQJevHiBVVXV1NVVRWNGjWKQkNDeWn09fXp0qVL3LK8SayFhYX09OlTqq2tpdOnT9PMmTN58QMHDqQ9e/bwwl6+fElBQUG0YcMG+vrrrykgIICL09XVpeTk5GZtR2hZhXpzYnRRURENGTKE0tPTpdI2DnYePHhAQ4cOpZqaGqqpqaHz588TkfxBUFPZ2dk0f/58mjVrFi9c1sRoWWTVmbGxMW9Qde/ePTI2Nual0dDQoIKCAm45NjaWRo8erXR7snRkn1JVVeXKXV9fTwCooqKCiF4PilRVVeWW08TEpEX7xzAMw3Qvcm+HPX36FAcPHuSWJ02ahMjISLi7u/PSNL2tJc+rV6+wbds2TJgwQWb8rFmzcPPmTaxatYoLU1dXx9q1axEbG4tFixahpKSEt46sLy4r2o7QsrbUoEGDMHnyZJw9exbvvPOOzDRjxoyBgYEBkpKSoKGhAXNzc4V5pqamwsTEBAAwYsQIHDp0CAYGBi0u45t1JpFIIBL9vwuIRCKltwn19fXx6NGjFm2/I/sUAKipqSlcZhiGYXo2mYOg4uJiWFhYwNramgt7//33YWFhgeLiYm4Cs6GhIZ4/f650I87Ozli2bBkWLlyIa9euITIyEkVFRRg8eDCA13NW7O3tkZ+fD11dXd66zfnhUrQdoWVtrfv37yuM/+KLL3DkyBG4uLgo/bG/evUqNwgCXg8Mhw8f3iblBF7Pf6msrOSWKysroaenp3Cd/Px83hNrQnV0n2qNfv36tToPhmEYpuuT+XTYlStXpK5SmJiYYMyYMYiOjubCPD09ERMTwy3Lu0Jw48YNWFlZAQA3ufbWrVu8vAMDA+Hi4iL12HRWVpbgl/4p2o6Qsjb9gW6JYcOGITs7GwAQHx/PhTcdaLi6uiI2NhaamppK89u1axcKCwu55fT0dEETo4Xy8PBAUlISt5yUlAQPDw+pdE3LEBERwbtiJ7TOOrpPtQa98f5QMzOzNsmXYRiG6Vr6bN68eXPTAG9vb2zevBl1dXWws7PjwsPDw3H27FlcvXoVtbW1mDZtGszNzfHo0SOkpqbi6dOnePbsGU6dOoXq6mrY29tz62poaODixYuoqamBlpYWbty4AW1tbd6Py3vvvQcTExMEBQXh5s2bSE1NRVpaGmxsbDBu3DhMnToVAODr64vExERUVFRATU2N9w4hRdsRUtZz587B1dVVaaUFBATg999/R1VVFfLz87n9MDU1RVxcHHr37o3q6mq8++67WLduHQIDA5GbmwtbW1sMGDAAaWlpWL16NUQiEUJCQnDy5ElkZGSgrKyMe/Mz8PqJs6KiIly+fBnXrl3DtWvXEBAQAFVVVQCv3xgdFxeHgoICqKmpwdjYWGZ55dWZtbU1EhMTkZeXB4lEgtzcXHh5efEGnVu3boW+vj5EIhGio6PRq1cveHt7o0+fPoLrrKP7lI+PDy5dugQigpmZGQICApCcnAwAmDp1KgICAnDlyhUA4JUHAJ49e4a0tDTuTeAAcODAASxbtkzhPjIMwzDdj9LPZvQkd+7cadMrLX8EmpqayMrKQl1dHdTV1aVu4f3R6uz48ePo06cP5s2b19lFYRiGYdpZ1/y4VCeprq7u7CJ0WcOGDZM5h+mPVmc3btzAnDlzOrsYDMMwTAdgg6Am6uvrO7sIXcqWLVtQW1uLoKAglJWVyUzzR6qzxjlXffv27eyiMAzDMB2A3Q5jmP8Ri8VYunRpZxeDYRiG6SBsEMQwDMMwTI/EbocxDMMwDNMjsUEQwzAMwzA9EhsEMQzDMAzTI7FBEMMwDMMwPRIbBDEMwzAM0yOxQRDDMAzDMD0SGwQxDMMwDNMj/ReIh5B4Ut1rqQAAAABJRU5ErkJggg==)\n"
      ],
      "metadata": {
        "id": "tQL5xeTk7SwL"
      }
    },
    {
      "cell_type": "code",
      "source": [
        "class AbstractModification:\n",
        "    __metaclass__ = ABCMeta\n",
        "\n",
        "    @abstractmethod\n",
        "    def step(self, lr: float, grad, w_i): raise NotImplementedError\n",
        "\n",
        "class NoModification(AbstractModification):\n",
        "    def step(self, lr: float, grad, w_i):\n",
        "        return lr * grad(w_i)\n",
        "\n",
        "\n",
        "class Nesterov(AbstractModification):\n",
        "    alpha: float # примерно 0.9\n",
        "    prev_g: float\n",
        "\n",
        "    def __init__(self, alpha: float):\n",
        "        self.alpha = alpha\n",
        "        self.prev_g = 0\n",
        "\n",
        "    def step(self, lr: float, grad, w_i):\n",
        "        self.prev_g = lr * grad(w_i - self.alpha * self.prev_g) + self.alpha * self.prev_g\n",
        "        return self.prev_g \n",
        "\n",
        "class Momentum(AbstractModification):\n",
        "    alpha: float # примерно 0.9\n",
        "    prev_g: float\n",
        "\n",
        "    def __init__(self, alpha: float):\n",
        "        self.alpha = alpha\n",
        "        self.prev_g = 0\n",
        "\n",
        "    def step(self, lr: float, grad, w_i):\n",
        "        self.prev_g = lr * grad(w_i) + self.alpha * self.prev_g\n",
        "        return self.prev_g \n",
        "\n",
        "class Adagrad(AbstractModification):\n",
        "    lr_0: float # примерно 0.9\n",
        "    \n",
        "    eps = 1e-8\n",
        "\n",
        "    def __init__(self, lr_0: float, G_helper):\n",
        "        self.lr_0 = lr_0\n",
        "        self.G_helper = G_helper\n",
        "\n",
        "    def calculate_rate(self, grad_i):\n",
        "      self.G_helper = [self.G_helper[j] + (grad_i[j])**2 for j in range(len(self.G_helper))]\n",
        "      return [self.lr_0 / (self.G_helper[i] + self.eps) ** 0.5 for i in range(len(self.G_helper))]\n",
        "\n",
        "# grad[0][0] ... grad[0][n]\n",
        "# ...\n",
        "# grad[p][0] ... grad[p][n]\n",
        "# G[p][i] = grad[j][i]**2 for j in range(p)\n",
        "\n",
        "    def step(self, lr: float, grad, w_i):\n",
        "        curr_grad = grad(w_i)\n",
        "        rate = self.calculate_rate(curr_grad)\n",
        "        return  curr_grad * rate # поэлементное произведение"
      ],
      "metadata": {
        "id": "W_F9z5LU7VJy"
      },
      "execution_count": null,
      "outputs": []
    },
    {
      "cell_type": "code",
      "source": [
        "def SGD_with_mods(minibatch_size, num_iters, lr, mod: AbstractModification, X, Y):\n",
        "    n = len(X)\n",
        "    ws = []\n",
        "    trace = []\n",
        "    w = np.zeros(len(X[0])) # assume that last elem in w is b\n",
        "    for i in range(num_iters):\n",
        "      perm = np.random.permutation(n)\n",
        "      k = 0\n",
        "      if i % 10 == 0:\n",
        "        trace.append([X[perm[0]], Y[perm[0]]])\n",
        "      def calc_grad(w):\n",
        "        grad = np.zeros(len(X[0]))\n",
        "        for j in range(min(minibatch_size, n - k - 1)):\n",
        "          idx = perm[k + j]\n",
        "          grad = grad + calc_diff(w, X[idx], Y[idx])\n",
        "        return grad\n",
        "      while k < n:\n",
        "        w = w - mod.step(lr, calc_grad, w)\n",
        "        k += minibatch_size\n",
        "      if i % 10 == 0:\n",
        "        ws.append(w)\n",
        "    return w, ws, trace"
      ],
      "metadata": {
        "id": "auGFhAdZ7W3u"
      },
      "execution_count": null,
      "outputs": []
    },
    {
      "cell_type": "code",
      "source": [
        "num_features = 100\n",
        "num_samples = 100\n",
        "tmp, Y = make_regression(n_samples=num_samples, n_features=num_features)\n",
        "\n",
        "X = []\n",
        "for x in tmp:\n",
        "  arr = [1]\n",
        "  for elem in x:\n",
        "      arr.append(elem)\n",
        "  X.append(np.array(arr))\n",
        "\n",
        "X_train, X_test, Y_train, Y_test = train_test_split(X, Y, test_size=0.2, random_state=42)"
      ],
      "metadata": {
        "id": "RXFhOaut7e70"
      },
      "execution_count": null,
      "outputs": []
    },
    {
      "cell_type": "code",
      "source": [
        "#Default Stochastic descent\n",
        "w, ws, trace = SGD_with_mods(50, 1000, 0.001, NoModification(), X_train, Y_train)\n",
        "y = [(trace[i][1] - predict(ws[i], trace[i][0])) ** 2 for i in range(len(trace))]\n",
        "x = [i for i in range(len(trace))]\n",
        "plt.plot(x, y)\n",
        "plt.show()"
      ],
      "metadata": {
        "colab": {
          "base_uri": "https://localhost:8080/",
          "height": 265
        },
        "id": "50h8uhcfTuM7",
        "outputId": "68b06611-05c6-434b-c997-1c70b69605b5"
      },
      "execution_count": null,
      "outputs": [
        {
          "output_type": "display_data",
          "data": {
            "text/plain": [
              "<Figure size 432x288 with 1 Axes>"
            ],
            "image/png": "[encoded data removed]"
          },
          "metadata": {
            "needs_background": "light"
          }
        }
      ]
    },
    {
      "cell_type": "code",
      "source": [
        "#Stochastic descent with Momentum modification\n",
        "w, ws, trace = SGD_with_mods(50, 1000, 0.001, Momentum(0.8), X_train, Y_train)\n",
        "y = [(trace[i][1] - predict(ws[i], trace[i][0])) ** 2 for i in range(len(trace))]\n",
        "x = [i for i in range(len(trace))]\n",
        "plt.plot(x, y)\n",
        "plt.show()"
      ],
      "metadata": {
        "colab": {
          "base_uri": "https://localhost:8080/",
          "height": 265
        },
        "id": "UGfkkXvOW3qb",
        "outputId": "b4f2a852-0859-49e2-9bc5-b55de8d30bc1"
      },
      "execution_count": null,
      "outputs": [
        {
          "output_type": "display_data",
          "data": {
            "text/plain": [
              "<Figure size 432x288 with 1 Axes>"
            ],
            "image/png": "[encoded data removed]"
          },
          "metadata": {
            "needs_background": "light"
          }
        }
      ]
    },
    {
      "cell_type": "code",
      "source": [
        "#Stochastic descent with Nesterov modification\n",
        "w, ws, trace = SGD_with_mods(50, 1000, 0.001, Nesterov(0.99), X_train, Y_train)\n",
        "y = [(trace[i][1] - predict(ws[i], trace[i][0])) ** 2 for i in range(len(trace))]\n",
        "x = [i for i in range(len(trace))]\n",
        "plt.plot(x, y)\n",
        "plt.show()"
      ],
      "metadata": {
        "colab": {
          "base_uri": "https://localhost:8080/",
          "height": 265
        },
        "id": "qfEDosMbX1VN",
        "outputId": "ddca976d-52b6-4a82-8284-a5ad55adca5c"
      },
      "execution_count": null,
      "outputs": [
        {
          "output_type": "display_data",
          "data": {
            "text/plain": [
              "<Figure size 432x288 with 1 Axes>"
            ],
            "image/png": "[encoded data removed]"
          },
          "metadata": {
            "needs_background": "light"
          }
        }
      ]
    },
    {
      "cell_type": "code",
      "source": [
        "#Stochastic descent with Adagrad modification\n",
        "w, ws, trace = SGD_with_mods(50, 1000, 0.001, Adagrad(7, np.zeros(len(X[0]))), X_train, Y_train)\n",
        "y = [(trace[i][1] - predict(ws[i], trace[i][0])) ** 2 for i in range(len(ws))]\n",
        "x = [i for i in range(len(ws))]\n",
        "\n",
        "plt.plot(x, y)\n",
        "plt.show()"
      ],
      "metadata": {
        "colab": {
          "base_uri": "https://localhost:8080/",
          "height": 265
        },
        "id": "XsxmSXFldHF6",
        "outputId": "0ee75f82-9ddf-4a55-cd73-7c16c13cb2b9"
      },
      "execution_count": null,
      "outputs": [
        {
          "output_type": "display_data",
          "data": {
            "text/plain": [
              "<Figure size 432x288 with 1 Axes>"
            ],
            "image/png": "[encoded data removed]"
          },
          "metadata": {
            "needs_background": "light"
          }
        }
      ]
    },
    {
      "cell_type": "code",
      "source": [
        "# class Statistics():\n",
        "#   def __init__(self):\n",
        "#     self.error: float = 0.0\n",
        "#     self.grad_call_count: int = 0\n",
        "#     self.time_sec: float = datetime.now()\n",
        "#     self.memory_mb: float = memory_usage()[0]\n",
        "  \n",
        "#   def print(self, minibatch_size):\n",
        "#     print(\"-------------------------===-------------------------\")\n",
        "#     print()\n",
        "#     print(\"Minibatch size \", minibatch_size)\n",
        "#     print(\"Error \", self.error)\n",
        "#     print(f\"Time: {self.time_sec} sec\")\n",
        "#     print(f\"Memory usage: {self.memory_mb} MB\")\n",
        "#     print(\"Gradient calls: \", self.grad_call_count)\n",
        "\n",
        "# def SGD_stat(minibatch_size, num_iters, optimizer, X, Y):\n",
        "#     statistics = Statistics()\n",
        "#     n = len(X)\n",
        "#     w = np.zeros(len(X[0])) # assume that last elem in w is b\n",
        "#     for i in range(num_iters):\n",
        "#       perm = np.random.permutation(n)\n",
        "#       grad = np.zeros(len(X[0]))\n",
        "#       for j in range(minibatch_size):\n",
        "#         idx = perm[j % n]\n",
        "#         statistics.grad_call_count += 1\n",
        "#         grad = grad + calc_diff(w, X[idx], Y[idx])\n",
        "#       w = w - 0.0001 * grad\n",
        "\n",
        "#     statistics.time_sec = (datetime.now() - statistics.time_sec).total_seconds()\n",
        "#     statistics.memory_mb = memory_usage()[0] - statistics.memory_mb\n",
        "    \n",
        "#     return w, statistics\n",
        "\n",
        "# X_train_norm, X_test_norm, Y_train_norm, Y_test_norm = train_test_split(X, Y, test_size=0.2, random_state=42)\n",
        "\n",
        "# x_norm = []\n",
        "# y_norm = []\n",
        "# for i in range(1, 1001, 100):\n",
        "#   w, statistics = SGD_stat(i, 100, None, X_train_norm, Y_train_norm)\n",
        "#   statistics.error = validate(w, X_test_norm, Y_test_norm)\n",
        "#   statistics.print(i)"
      ],
      "metadata": {
        "id": "4d_CynrDKUMc"
      },
      "execution_count": null,
      "outputs": []
    },
    {
      "cell_type": "code",
      "source": [
        "import time\n",
        "\n",
        "class Statistics():\n",
        "  def __init__(self):\n",
        "    self.error: float = 0.0\n",
        "    self.grad_call_count: int = 0\n",
        "    self.time_sec: float = 0\n",
        "    self.memory_mb: float = memory_usage()[0]\n",
        "  \n",
        "  def print(self, minibatch_size, algo):\n",
        "    print(\"-------------------------===-------------------------\")\n",
        "    print()\n",
        "    print(f\"Algo: \", type(algo).__name__)\n",
        "    print(\"Minibatch size \", minibatch_size)\n",
        "    print(\"Error \", self.error)\n",
        "    print(f\"Time: {self.time_sec} sec\")\n",
        "    print(\"Gradient calls: \", self.grad_call_count)\n",
        "\n",
        "def SGD_with_mods_and_stat(minibatch_size, num_iters, lr, mod: AbstractModification, X, Y):\n",
        "    statistics = Statistics()\n",
        "    start = time.time()\n",
        "    n = len(X)\n",
        "    ws = []\n",
        "    trace = []\n",
        "    w = np.zeros(len(X[0])) # assume that last elem in w is b\n",
        "    for i in range(num_iters):\n",
        "      perm = np.random.permutation(n)\n",
        "      k = 0\n",
        "      if i % 10 == 0:\n",
        "        trace.append([X[perm[0]], Y[perm[0]]])\n",
        "      def calc_grad(w):\n",
        "        grad = np.zeros(len(X[0]))\n",
        "        for j in range(min(minibatch_size, n - k - 1)):\n",
        "          idx = perm[k + j]\n",
        "          statistics.grad_call_count += 1\n",
        "          grad = grad + calc_diff(w, X[idx], Y[idx])\n",
        "        return grad\n",
        "      while k < n:\n",
        "        w = w - mod.step(lr, calc_grad, w)\n",
        "        k += minibatch_size\n",
        "      if i % 10 == 0:\n",
        "        ws.append(w)\n",
        "\n",
        "    statistics.grad_call_count += minibatch_size * num_iters\n",
        "    statistics.time_sec = time.time() - start\n",
        "\n",
        "    return w, ws, trace, statistics\n",
        "\n",
        "\n",
        "X_train_norm, X_test_norm, Y_train_norm, Y_test_norm = train_test_split(X, Y, test_size=0.2, random_state=42)\n",
        "\n",
        "x_norm = []\n",
        "y_norm = []\n",
        "algos = [NoModification(), Momentum(0.8), Nesterov(0.99)]\n",
        "\n",
        "for i in range(1, 101, 10):\n",
        "  for algo in algos:\n",
        "    w, ws, trace, statistics = SGD_with_mods_and_stat(i, 1000, 0.001, algo, X_train, Y_train)\n",
        "    statistics.error = validate(w, X_test_norm, Y_test_norm)\n",
        "    statistics.print(i, algo)\n",
        "\n",
        "  \n"
      ],
      "metadata": {
        "colab": {
          "base_uri": "https://localhost:8080/"
        },
        "id": "hfyDfGmUV3oZ",
        "outputId": "3e896c99-cfce-4061-97b7-6bc4b315eeb0"
      },
      "execution_count": null,
      "outputs": [
        {
          "output_type": "stream",
          "name": "stdout",
          "text": [
            "-------------------------===-------------------------\n",
            "\n",
            "Algo:  NoModification\n",
            "Minibatch size  1\n",
            "Error  4658.540854301797\n",
            "Time: 2.133721351623535 sec\n",
            "Gradient calls:  80000\n",
            "-------------------------===-------------------------\n",
            "\n",
            "Algo:  Momentum\n",
            "Minibatch size  1\n",
            "Error  4650.3900903965705\n",
            "Time: 2.4570088386535645 sec\n",
            "Gradient calls:  80000\n"
          ]
        },
        {
          "output_type": "stream",
          "name": "stderr",
          "text": [
            "/usr/local/lib/python3.7/dist-packages/ipykernel_launcher.py:2: RuntimeWarning: overflow encountered in multiply\n",
            "  \n",
            "/usr/local/lib/python3.7/dist-packages/ipykernel_launcher.py:21: RuntimeWarning: invalid value encountered in add\n"
          ]
        },
        {
          "output_type": "stream",
          "name": "stdout",
          "text": [
            "-------------------------===-------------------------\n",
            "\n",
            "Algo:  Nesterov\n",
            "Minibatch size  1\n",
            "Error  nan\n",
            "Time: 2.740218162536621 sec\n",
            "Gradient calls:  80000\n",
            "-------------------------===-------------------------\n",
            "\n",
            "Algo:  NoModification\n",
            "Minibatch size  11\n",
            "Error  4658.804388582773\n",
            "Time: 0.5019948482513428 sec\n",
            "Gradient calls:  90000\n",
            "-------------------------===-------------------------\n",
            "\n",
            "Algo:  Momentum\n",
            "Minibatch size  11\n",
            "Error  4650.390090085513\n",
            "Time: 0.5117878913879395 sec\n",
            "Gradient calls:  90000\n",
            "-------------------------===-------------------------\n",
            "\n",
            "Algo:  Nesterov\n",
            "Minibatch size  11\n",
            "Error  nan\n",
            "Time: 0.5389068126678467 sec\n",
            "Gradient calls:  90000\n",
            "-------------------------===-------------------------\n",
            "\n",
            "Algo:  NoModification\n",
            "Minibatch size  21\n",
            "Error  4659.29350610359\n",
            "Time: 0.45734381675720215 sec\n",
            "Gradient calls:  100000\n",
            "-------------------------===-------------------------\n",
            "\n",
            "Algo:  Momentum\n",
            "Minibatch size  21\n",
            "Error  4650.39008796129\n",
            "Time: 0.476240873336792 sec\n",
            "Gradient calls:  100000\n",
            "-------------------------===-------------------------\n",
            "\n",
            "Algo:  Nesterov\n",
            "Minibatch size  21\n",
            "Error  nan\n",
            "Time: 0.5038700103759766 sec\n",
            "Gradient calls:  100000\n",
            "-------------------------===-------------------------\n",
            "\n",
            "Algo:  NoModification\n",
            "Minibatch size  31\n",
            "Error  4659.437768718666\n",
            "Time: 0.45613908767700195 sec\n",
            "Gradient calls:  110000\n",
            "-------------------------===-------------------------\n",
            "\n",
            "Algo:  Momentum\n",
            "Minibatch size  31\n",
            "Error  4650.390087160769\n",
            "Time: 0.4755277633666992 sec\n",
            "Gradient calls:  110000\n",
            "-------------------------===-------------------------\n",
            "\n",
            "Algo:  Nesterov\n",
            "Minibatch size  31\n",
            "Error  nan\n",
            "Time: 0.4912731647491455 sec\n",
            "Gradient calls:  110000\n",
            "-------------------------===-------------------------\n",
            "\n",
            "Algo:  NoModification\n",
            "Minibatch size  41\n",
            "Error  4659.902900420473\n",
            "Time: 0.49199748039245605 sec\n",
            "Gradient calls:  120000\n",
            "-------------------------===-------------------------\n",
            "\n",
            "Algo:  Momentum\n",
            "Minibatch size  41\n",
            "Error  4650.390086281297\n",
            "Time: 0.47788453102111816 sec\n",
            "Gradient calls:  120000\n",
            "-------------------------===-------------------------\n",
            "\n",
            "Algo:  Nesterov\n",
            "Minibatch size  41\n",
            "Error  nan\n",
            "Time: 0.4812936782836914 sec\n",
            "Gradient calls:  120000\n",
            "-------------------------===-------------------------\n",
            "\n",
            "Algo:  NoModification\n",
            "Minibatch size  51\n",
            "Error  4660.136513115972\n",
            "Time: 0.4750058650970459 sec\n",
            "Gradient calls:  130000\n",
            "-------------------------===-------------------------\n",
            "\n",
            "Algo:  Momentum\n",
            "Minibatch size  51\n",
            "Error  4650.390086796842\n",
            "Time: 0.45190906524658203 sec\n",
            "Gradient calls:  130000\n",
            "-------------------------===-------------------------\n",
            "\n",
            "Algo:  Nesterov\n",
            "Minibatch size  51\n",
            "Error  nan\n",
            "Time: 0.49412035942077637 sec\n",
            "Gradient calls:  130000\n",
            "-------------------------===-------------------------\n",
            "\n",
            "Algo:  NoModification\n",
            "Minibatch size  61\n",
            "Error  4660.570595132837\n",
            "Time: 0.46178746223449707 sec\n",
            "Gradient calls:  140000\n",
            "-------------------------===-------------------------\n",
            "\n",
            "Algo:  Momentum\n",
            "Minibatch size  61\n",
            "Error  4650.39008303254\n",
            "Time: 0.4720003604888916 sec\n",
            "Gradient calls:  140000\n",
            "-------------------------===-------------------------\n",
            "\n",
            "Algo:  Nesterov\n",
            "Minibatch size  61\n",
            "Error  nan\n",
            "Time: 0.5240523815155029 sec\n",
            "Gradient calls:  140000\n",
            "-------------------------===-------------------------\n",
            "\n",
            "Algo:  NoModification\n",
            "Minibatch size  71\n",
            "Error  4661.111064011153\n",
            "Time: 0.47124743461608887 sec\n",
            "Gradient calls:  150000\n",
            "-------------------------===-------------------------\n",
            "\n",
            "Algo:  Momentum\n",
            "Minibatch size  71\n",
            "Error  4650.3900838765685\n",
            "Time: 0.4901144504547119 sec\n",
            "Gradient calls:  150000\n",
            "-------------------------===-------------------------\n",
            "\n",
            "Algo:  Nesterov\n",
            "Minibatch size  71\n",
            "Error  nan\n",
            "Time: 0.49544477462768555 sec\n",
            "Gradient calls:  150000\n",
            "-------------------------===-------------------------\n",
            "\n",
            "Algo:  NoModification\n",
            "Minibatch size  81\n",
            "Error  4661.931686198119\n",
            "Time: 0.4720022678375244 sec\n",
            "Gradient calls:  160000\n",
            "-------------------------===-------------------------\n",
            "\n",
            "Algo:  Momentum\n",
            "Minibatch size  81\n",
            "Error  4650.39008684272\n",
            "Time: 0.4793541431427002 sec\n",
            "Gradient calls:  160000\n",
            "-------------------------===-------------------------\n",
            "\n",
            "Algo:  Nesterov\n",
            "Minibatch size  81\n",
            "Error  nan\n",
            "Time: 0.47481751441955566 sec\n",
            "Gradient calls:  160000\n",
            "-------------------------===-------------------------\n",
            "\n",
            "Algo:  NoModification\n",
            "Minibatch size  91\n",
            "Error  4662.055279768364\n",
            "Time: 0.48584794998168945 sec\n",
            "Gradient calls:  170000\n",
            "-------------------------===-------------------------\n",
            "\n",
            "Algo:  Momentum\n",
            "Minibatch size  91\n",
            "Error  4650.390085078252\n",
            "Time: 0.4564213752746582 sec\n",
            "Gradient calls:  170000\n",
            "-------------------------===-------------------------\n",
            "\n",
            "Algo:  Nesterov\n",
            "Minibatch size  91\n",
            "Error  nan\n",
            "Time: 0.4759705066680908 sec\n",
            "Gradient calls:  170000\n"
          ]
        }
      ]
    }
  ]
}